{
 "cells": [
  {
   "cell_type": "markdown",
   "metadata": {},
   "source": [
    "#### Ing. Jorge Eduardo Ronsón Ruiz\n",
    "#### jerondonr@unal.edu.co - 3012751445\n",
    "#### Universidad Nacional de Colombia"
   ]
  },
  {
   "cell_type": "markdown",
   "metadata": {},
   "source": [
    "# **<center> AUTOENCODERS </center>**"
   ]
  },
  {
   "cell_type": "markdown",
   "metadata": {},
   "source": [
    "# 1. Importar Librerias"
   ]
  },
  {
   "cell_type": "code",
   "execution_count": 1,
   "metadata": {},
   "outputs": [],
   "source": [
    "from __future__ import absolute_import, division, print_function\n",
    "#\n",
    "import tensorflow as tf\n",
    "#\n",
    "from tensorflow.keras.layers import Input, Dense, Activation\n",
    "from tensorflow.keras.models import Model\n",
    "from tensorflow.keras.utils import plot_model\n",
    "from tensorflow.keras.optimizers import Adam\n",
    "from tensorflow.keras.losses import MeanSquaredError\n",
    "# \n",
    "import numpy as np\n",
    "import matplotlib.pyplot as plt"
   ]
  },
  {
   "cell_type": "markdown",
   "metadata": {},
   "source": [
    "# 2. Parametros de la red codificadora"
   ]
  },
  {
   "cell_type": "code",
   "execution_count": 2,
   "metadata": {},
   "outputs": [],
   "source": [
    "input_shape = (28*28,) # 784\n",
    "intermediate_dim_1 = 128\n",
    "intermediate_dim_2 = 64\n",
    "intermediate_dim_3 = 32\n",
    "intermediate_dim_4 = 16\n",
    "latent_dim = 2 \n",
    "    \n",
    "# Train parameters\n",
    "epochs = 3\n",
    "batch_size=64"
   ]
  },
  {
   "cell_type": "markdown",
   "metadata": {},
   "source": [
    "# 3. Codificador: Encoder"
   ]
  },
  {
   "cell_type": "code",
   "execution_count": 3,
   "metadata": {},
   "outputs": [
    {
     "name": "stdout",
     "output_type": "stream",
     "text": [
      "Model: \"dense_encoder\"\n",
      "_________________________________________________________________\n",
      "Layer (type)                 Output Shape              Param #   \n",
      "=================================================================\n",
      "encoder_input (InputLayer)   [(None, 784)]             0         \n",
      "_________________________________________________________________\n",
      "activation (Activation)      (None, 784)               0         \n",
      "_________________________________________________________________\n",
      "hidden_layer_1_e (Dense)     (None, 128)               100480    \n",
      "_________________________________________________________________\n",
      "activation_1 (Activation)    (None, 128)               0         \n",
      "_________________________________________________________________\n",
      "hidden_layer_2_e (Dense)     (None, 64)                8256      \n",
      "_________________________________________________________________\n",
      "activation_2 (Activation)    (None, 64)                0         \n",
      "_________________________________________________________________\n",
      "hidden_layer_3_e (Dense)     (None, 32)                2080      \n",
      "_________________________________________________________________\n",
      "activation_3 (Activation)    (None, 32)                0         \n",
      "_________________________________________________________________\n",
      "hidden_layer_4_e (Dense)     (None, 16)                528       \n",
      "_________________________________________________________________\n",
      "activation_4 (Activation)    (None, 16)                0         \n",
      "_________________________________________________________________\n",
      "latent_space (Dense)         (None, 2)                 34        \n",
      "=================================================================\n",
      "Total params: 111,378\n",
      "Trainable params: 111,378\n",
      "Non-trainable params: 0\n",
      "_________________________________________________________________\n",
      "Failed to import pydot. You must install pydot and graphviz for `pydotprint` to work.\n"
     ]
    }
   ],
   "source": [
    "# Define encoder model\n",
    "inputs = Input(shape=input_shape,name='encoder_input')\n",
    "x = Activation('relu')(inputs)\n",
    "x = Dense(intermediate_dim_1, name='hidden_layer_1_e')(x)\n",
    "x = Activation('relu')(x)\n",
    "x = Dense(intermediate_dim_2, name='hidden_layer_2_e')(x)\n",
    "x = Activation('relu')(x)\n",
    "x = Dense(intermediate_dim_3, name='hidden_layer_3_e')(x)\n",
    "x = Activation('relu')(x)\n",
    "x = Dense(intermediate_dim_4, name='hidden_layer_4_e')(x)\n",
    "x = Activation('relu')(x)\n",
    "outputs = Dense(latent_dim, name='latent_space')(x)\n",
    "#outputs = LayerNormalization(axis=1)(x)\n",
    "\n",
    "encoder = Model(inputs=inputs, outputs=outputs, name='dense_encoder')\n",
    "\n",
    "encoder.summary()\n",
    "plot_model(encoder, to_file='../Imagenes/encoder_dense_minist.png', \n",
    "           show_shapes=True)"
   ]
  },
  {
   "cell_type": "markdown",
   "metadata": {},
   "source": [
    "# 4. Decodificador: Decoder"
   ]
  },
  {
   "cell_type": "code",
   "execution_count": 4,
   "metadata": {},
   "outputs": [
    {
     "name": "stdout",
     "output_type": "stream",
     "text": [
      "Model: \"decoder\"\n",
      "_________________________________________________________________\n",
      "Layer (type)                 Output Shape              Param #   \n",
      "=================================================================\n",
      "decoder_input (InputLayer)   [(None, 2)]               0         \n",
      "_________________________________________________________________\n",
      "hidden_layer_de_4_d (Dense)  (None, 16)                48        \n",
      "_________________________________________________________________\n",
      "activation_6 (Activation)    (None, 16)                0         \n",
      "_________________________________________________________________\n",
      "hidden_layer_de_3_d (Dense)  (None, 32)                544       \n",
      "_________________________________________________________________\n",
      "activation_7 (Activation)    (None, 32)                0         \n",
      "_________________________________________________________________\n",
      "hidden_layer_de_2_d (Dense)  (None, 64)                2112      \n",
      "_________________________________________________________________\n",
      "activation_8 (Activation)    (None, 64)                0         \n",
      "_________________________________________________________________\n",
      "hidden_layer_de_1_d (Dense)  (None, 128)               8320      \n",
      "_________________________________________________________________\n",
      "activation_9 (Activation)    (None, 128)               0         \n",
      "_________________________________________________________________\n",
      "original_space (Dense)       (None, 784)               101136    \n",
      "_________________________________________________________________\n",
      "activation_10 (Activation)   (None, 784)               0         \n",
      "=================================================================\n",
      "Total params: 112,160\n",
      "Trainable params: 112,160\n",
      "Non-trainable params: 0\n",
      "_________________________________________________________________\n",
      "Failed to import pydot. You must install pydot and graphviz for `pydotprint` to work.\n"
     ]
    }
   ],
   "source": [
    "# Define decoder model\n",
    "latent_input = Input(shape = (latent_dim,), name='decoder_input')\n",
    "x = Activation('relu')(latent_input)\n",
    "x = Dense(intermediate_dim_4 , name='hidden_layer_de_4_d')(latent_input)\n",
    "x = Activation('relu')(x)\n",
    "x = Dense(intermediate_dim_3 , name='hidden_layer_de_3_d')(x)\n",
    "x = Activation('relu')(x)\n",
    "x = Dense(intermediate_dim_2 , name='hidden_layer_de_2_d')(x)\n",
    "x = Activation('relu')(x)\n",
    "x = Dense(intermediate_dim_1 , name='hidden_layer_de_1_d')(x)\n",
    "x = Activation('relu')(x)\n",
    "x = Dense(input_shape[0], name='original_space')(x)\n",
    "x = Activation('sigmoid')(x)\n",
    "\n",
    "decoder = Model (inputs=latent_input, outputs=x, name='decoder')\n",
    "\n",
    "decoder.summary()\n",
    "plot_model(decoder, to_file='../Imagenes/decoder_dense_minist.png', \n",
    "           show_shapes=True)"
   ]
  },
  {
   "cell_type": "markdown",
   "metadata": {},
   "source": [
    "# 5. Auto-codificador: Auto-encoder"
   ]
  },
  {
   "cell_type": "code",
   "execution_count": 5,
   "metadata": {},
   "outputs": [
    {
     "name": "stdout",
     "output_type": "stream",
     "text": [
      "Model: \"autoencoder_mnist_model\"\n",
      "_________________________________________________________________\n",
      "Layer (type)                 Output Shape              Param #   \n",
      "=================================================================\n",
      "encoder_input (InputLayer)   [(None, 784)]             0         \n",
      "_________________________________________________________________\n",
      "dense_encoder (Model)        (None, 2)                 111378    \n",
      "_________________________________________________________________\n",
      "decoder (Model)              (None, 784)               112160    \n",
      "=================================================================\n",
      "Total params: 223,538\n",
      "Trainable params: 223,538\n",
      "Non-trainable params: 0\n",
      "_________________________________________________________________\n",
      "Failed to import pydot. You must install pydot and graphviz for `pydotprint` to work.\n"
     ]
    }
   ],
   "source": [
    "# Autoencoder Model\n",
    "autoencoder = Model(inputs=inputs, \n",
    "                    outputs=decoder(encoder(inputs)),\n",
    "                    name='autoencoder_mnist_model')\n",
    "\n",
    "#Summary\n",
    "autoencoder.summary()\n",
    "plot_model(autoencoder,\n",
    "           to_file='../Imagenes/autoencoder_dense_mnist.png',\n",
    "           show_shapes=True)"
   ]
  },
  {
   "cell_type": "markdown",
   "metadata": {},
   "source": [
    "# 6. Entrenamiento"
   ]
  },
  {
   "cell_type": "markdown",
   "metadata": {},
   "source": [
    "### Compilación"
   ]
  },
  {
   "cell_type": "code",
   "execution_count": 6,
   "metadata": {},
   "outputs": [],
   "source": [
    "optimizer = Adam(learning_rate=1e-3)\n",
    "loss_fn = MeanSquaredError()\n",
    "autoencoder.compile(optimizer= optimizer, loss = loss_fn)"
   ]
  },
  {
   "cell_type": "markdown",
   "metadata": {},
   "source": [
    "### carga los datos"
   ]
  },
  {
   "cell_type": "code",
   "execution_count": 7,
   "metadata": {},
   "outputs": [
    {
     "name": "stdout",
     "output_type": "stream",
     "text": [
      "Downloading data from https://storage.googleapis.com/tensorflow/tf-keras-datasets/mnist.npz\n",
      "11493376/11490434 [==============================] - 1s 0us/step\n"
     ]
    }
   ],
   "source": [
    "# Data\n",
    "(x_train, y_train), (x_test, y_test) = tf.keras.datasets.mnist.load_data()\n",
    "x_train = x_train.reshape(60000, 784).astype(\"float32\") / 255\n",
    "x_test = x_test.reshape(10000, 784).astype(\"float32\") / 255\n",
    "\n",
    "epochs = 20\n",
    "batch_size = 64"
   ]
  },
  {
   "cell_type": "markdown",
   "metadata": {},
   "source": [
    "### Epochs"
   ]
  },
  {
   "cell_type": "code",
   "execution_count": 8,
   "metadata": {},
   "outputs": [
    {
     "name": "stdout",
     "output_type": "stream",
     "text": [
      "Epoch 1/20\n",
      "844/844 [==============================] - 15s 18ms/step - loss: 0.0587 - val_loss: 0.0474\n",
      "Epoch 2/20\n",
      "844/844 [==============================] - 14s 17ms/step - loss: 0.0459 - val_loss: 0.0435\n",
      "Epoch 3/20\n",
      "844/844 [==============================] - 14s 17ms/step - loss: 0.0432 - val_loss: 0.0414\n",
      "Epoch 4/20\n",
      "844/844 [==============================] - 14s 17ms/step - loss: 0.0415 - val_loss: 0.0402\n",
      "Epoch 5/20\n",
      "844/844 [==============================] - 14s 17ms/step - loss: 0.0404 - val_loss: 0.0393\n",
      "Epoch 6/20\n",
      "844/844 [==============================] - 14s 17ms/step - loss: 0.0396 - val_loss: 0.0386\n",
      "Epoch 7/20\n",
      "844/844 [==============================] - 14s 17ms/step - loss: 0.0390 - val_loss: 0.0383\n",
      "Epoch 8/20\n",
      "844/844 [==============================] - 14s 17ms/step - loss: 0.0384 - val_loss: 0.0377\n",
      "Epoch 9/20\n",
      "844/844 [==============================] - 15s 17ms/step - loss: 0.0380 - val_loss: 0.0372\n",
      "Epoch 10/20\n",
      "844/844 [==============================] - 14s 17ms/step - loss: 0.0376 - val_loss: 0.0373\n",
      "Epoch 11/20\n",
      "844/844 [==============================] - 14s 17ms/step - loss: 0.0379 - val_loss: 0.0368\n",
      "Epoch 12/20\n",
      "844/844 [==============================] - 14s 17ms/step - loss: 0.0373 - val_loss: 0.0371\n",
      "Epoch 13/20\n",
      "844/844 [==============================] - 15s 17ms/step - loss: 0.0373 - val_loss: 0.0364\n",
      "Epoch 14/20\n",
      "844/844 [==============================] - 14s 17ms/step - loss: 0.0369 - val_loss: 0.0363\n",
      "Epoch 15/20\n",
      "844/844 [==============================] - 15s 17ms/step - loss: 0.0366 - val_loss: 0.0359\n",
      "Epoch 16/20\n",
      "844/844 [==============================] - 15s 17ms/step - loss: 0.0362 - val_loss: 0.0359\n",
      "Epoch 17/20\n",
      "844/844 [==============================] - 14s 17ms/step - loss: 0.0361 - val_loss: 0.0356\n",
      "Epoch 18/20\n",
      "844/844 [==============================] - 14s 17ms/step - loss: 0.0360 - val_loss: 0.0354\n",
      "Epoch 19/20\n",
      "844/844 [==============================] - 16s 19ms/step - loss: 0.0360 - val_loss: 0.0354\n",
      "Epoch 20/20\n",
      "844/844 [==============================] - 15s 18ms/step - loss: 0.0358 - val_loss: 0.0352\n"
     ]
    }
   ],
   "source": [
    "# Train\n",
    "history = autoencoder.fit(x_train, x_train, epochs = epochs, batch_size=batch_size, validation_split=0.1)"
   ]
  },
  {
   "cell_type": "code",
   "execution_count": 9,
   "metadata": {},
   "outputs": [
    {
     "data": {
      "text/html": [
       "<div>\n",
       "<style scoped>\n",
       "    .dataframe tbody tr th:only-of-type {\n",
       "        vertical-align: middle;\n",
       "    }\n",
       "\n",
       "    .dataframe tbody tr th {\n",
       "        vertical-align: top;\n",
       "    }\n",
       "\n",
       "    .dataframe thead th {\n",
       "        text-align: right;\n",
       "    }\n",
       "</style>\n",
       "<table border=\"1\" class=\"dataframe\">\n",
       "  <thead>\n",
       "    <tr style=\"text-align: right;\">\n",
       "      <th></th>\n",
       "      <th>loss</th>\n",
       "      <th>val_loss</th>\n",
       "      <th>epoch</th>\n",
       "    </tr>\n",
       "  </thead>\n",
       "  <tbody>\n",
       "    <tr>\n",
       "      <th>15</th>\n",
       "      <td>0.036227</td>\n",
       "      <td>0.035896</td>\n",
       "      <td>15</td>\n",
       "    </tr>\n",
       "    <tr>\n",
       "      <th>16</th>\n",
       "      <td>0.036137</td>\n",
       "      <td>0.035635</td>\n",
       "      <td>16</td>\n",
       "    </tr>\n",
       "    <tr>\n",
       "      <th>17</th>\n",
       "      <td>0.036001</td>\n",
       "      <td>0.035374</td>\n",
       "      <td>17</td>\n",
       "    </tr>\n",
       "    <tr>\n",
       "      <th>18</th>\n",
       "      <td>0.036005</td>\n",
       "      <td>0.035388</td>\n",
       "      <td>18</td>\n",
       "    </tr>\n",
       "    <tr>\n",
       "      <th>19</th>\n",
       "      <td>0.035813</td>\n",
       "      <td>0.035197</td>\n",
       "      <td>19</td>\n",
       "    </tr>\n",
       "  </tbody>\n",
       "</table>\n",
       "</div>"
      ],
      "text/plain": [
       "        loss  val_loss  epoch\n",
       "15  0.036227  0.035896     15\n",
       "16  0.036137  0.035635     16\n",
       "17  0.036001  0.035374     17\n",
       "18  0.036005  0.035388     18\n",
       "19  0.035813  0.035197     19"
      ]
     },
     "execution_count": 9,
     "metadata": {},
     "output_type": "execute_result"
    }
   ],
   "source": [
    "import matplotlib.pyplot as plt\n",
    "import pandas as pd\n",
    "hist = pd.DataFrame(history.history)\n",
    "hist['epoch'] = history.epoch \n",
    "hist.tail()"
   ]
  },
  {
   "cell_type": "markdown",
   "metadata": {},
   "source": [
    "# 7. Perdida"
   ]
  },
  {
   "cell_type": "code",
   "execution_count": 10,
   "metadata": {},
   "outputs": [
    {
     "data": {
      "image/png": "[encoded data removed]",
      "text/plain": [
       "<Figure size 432x288 with 1 Axes>"
      ]
     },
     "metadata": {
      "needs_background": "light"
     },
     "output_type": "display_data"
    }
   ],
   "source": [
    "plt.figure()\n",
    "plt.xlabel('Epoca')\n",
    "plt.ylabel('Loss: Entropía cruzada')\n",
    "plt.plot(hist['epoch'], hist['loss'],\n",
    "           label='Error en entrenamiento')\n",
    "plt.plot(hist['epoch'], hist['val_loss'],\n",
    "           label='Error en validación')\n",
    "plt.ylim([0,0.5])\n",
    "plt.legend()\n",
    "plt.show()"
   ]
  },
  {
   "cell_type": "markdown",
   "metadata": {},
   "source": [
    "# 8. Evaluación externa"
   ]
  },
  {
   "cell_type": "code",
   "execution_count": 11,
   "metadata": {},
   "outputs": [
    {
     "name": "stdout",
     "output_type": "stream",
     "text": [
      "313/313 [==============================] - 2s 7ms/step - loss: 0.0358\n",
      "1875/1875 [==============================] - 13s 7ms/step - loss: 0.0355\n"
     ]
    },
    {
     "data": {
      "text/plain": [
       "0.03546256944537163"
      ]
     },
     "execution_count": 11,
     "metadata": {},
     "output_type": "execute_result"
    }
   ],
   "source": [
    "# External evaluation\n",
    "autoencoder.evaluate(x_test,x_test) # 0.0361\n",
    "autoencoder.evaluate(x_train,x_train) # 0.0358"
   ]
  },
  {
   "cell_type": "markdown",
   "metadata": {},
   "source": [
    "# 9. Recuperación de imagenes"
   ]
  },
  {
   "cell_type": "code",
   "execution_count": 12,
   "metadata": {},
   "outputs": [],
   "source": [
    "def reconstruction_image(img_original, img_decoded, image_size=28, num_images=8, random=True, file_name=None):\n",
    "    \n",
    "    # control number of images, maximum is  16. \n",
    "    if num_images > 16:\n",
    "        num_images = 16\n",
    "    \n",
    "    # select images\n",
    "    if random:\n",
    "        shape_0 = img_original.shape[0]\n",
    "        index = np.random.randint(low=0, high=shape_0, size=num_images)\n",
    "    else:\n",
    "        index = range(num_images) # first images\n",
    "    \n",
    "    # prepare data\n",
    "    imgs = np.concatenate([img_original[index], img_decoded[index]])\n",
    "    imgs = imgs.reshape((2, num_images, image_size, image_size))\n",
    "    imgs = np.vstack([np.hstack(i) for i in imgs])\n",
    "    \n",
    "    # plot\n",
    "    plt.axis('off')\n",
    "    plt.title('Entrada: Primera Fila, Decodificado: Segunda fila')\n",
    "    plt.imshow(1-imgs, interpolation='none', cmap='gray')\n",
    "    if file_name is not None:\n",
    "        plt.savefig(file_name)\n",
    "    plt.show()"
   ]
  },
  {
   "cell_type": "code",
   "execution_count": 16,
   "metadata": {},
   "outputs": [
    {
     "data": {
      "image/png": "[encoded data removed]",
      "text/plain": [
       "<Figure size 432x288 with 1 Axes>"
      ]
     },
     "metadata": {
      "needs_background": "light"
     },
     "output_type": "display_data"
    }
   ],
   "source": [
    "file_name = '../input_and_decoded.png'\n",
    "reconstruction_image(img_original= x_test, img_decoded=autoencoder.predict(x_test), \n",
    "                         image_size=28, num_images= 20, random=True,\n",
    "                         file_name=file_name)"
   ]
  },
  {
   "cell_type": "markdown",
   "metadata": {},
   "source": [
    "# 10. Representación Latente"
   ]
  },
  {
   "cell_type": "code",
   "execution_count": 14,
   "metadata": {},
   "outputs": [],
   "source": [
    "def plot2D(x_latent, y_label,\n",
    "           sample_percent = 100, #show 100% by default\n",
    "           xmin=-4.0, ymin=-4.0,\n",
    "           xmax=4.0,  ymax=4.0,\n",
    "           filename=None,\n",
    "           xlabel='Dim 1',\n",
    "           ylabel='Dim 2',\n",
    "           title='Latent Space-2D'):\n",
    "    \n",
    "    \n",
    "    # select sample to reduce the data\n",
    "    if sample_percent>=100:\n",
    "        sample_percent= 100\n",
    "    elif sample_percent<=0:\n",
    "        sample_percent= 10\n",
    "    if sample_percent!=100:\n",
    "        shape_0 = x_latent.shape[0]\n",
    "        size = int(shape_0*sample_percent/100)\n",
    "        index = index = np.random.randint(low=0, high=shape_0, size=size)\n",
    "        z = x_latent[index]\n",
    "        y_test = y_label[index]\n",
    "    else:\n",
    "        z = x_latent\n",
    "        y_test = y_label\n",
    "    \n",
    "    \n",
    "    # configure the plot\n",
    "    #fig, ax = plt.subplots(figsize=(20, 16))\n",
    "    fig = plt.figure(figsize=(20, 16))\n",
    "    ax = fig.add_subplot(1, 1, 1)\n",
    "    ax.set_xlim([xmin,xmax])\n",
    "    ax.set_ylim([ymin,ymax])\n",
    "    ax.set_xlabel(xlabel,fontsize=12)\n",
    "    ax.set_ylabel(ylabel,fontsize=12)\n",
    "    ax.set_title(title,fontsize=15)\n",
    "    ax.grid(True)\n",
    "    \n",
    "    # plot\n",
    "    #plt.scatter(z[:, 0], z[:, 1], marker=\"\")\n",
    "    ax.scatter(z[:, 0], z[:, 1], c=y_label ,alpha=0.1, edgecolors='none')\n",
    "    for i, digit in enumerate(y_test):\n",
    "        ax.annotate(digit, (z[i, 0], z[i, 1]))\n",
    "   \n",
    "    # save the plot\n",
    "    if filename is not None:\n",
    "        plt.savefig(filename)\n",
    "    #plt.show()"
   ]
  },
  {
   "cell_type": "code",
   "execution_count": 15,
   "metadata": {},
   "outputs": [],
   "source": [
    "# extract encoding data to future use\n",
    "x_train_latent = encoder(x_train)\n",
    "x_train_latent = x_train_latent.numpy()\n",
    "\n",
    "x_test_latent = encoder(x_test)\n",
    "x_test_latent = x_test_latent.numpy()"
   ]
  },
  {
   "cell_type": "code",
   "execution_count": null,
   "metadata": {},
   "outputs": [],
   "source": [
    "filename='../latent_2D_space_minist.png'\n",
    "plot2D(x_test_latent[0::2], y_test[0::2], filename=filename)# Comienza en el índice 0 toma cada dos posiciones"
   ]
  },
  {
   "cell_type": "code",
   "execution_count": null,
   "metadata": {},
   "outputs": [],
   "source": []
  }
 ],
 "metadata": {
  "kernelspec": {
   "display_name": "Python 3",
   "language": "python",
   "name": "python3"
  },
  "language_info": {
   "codemirror_mode": {
    "name": "ipython",
    "version": 3
   },
   "file_extension": ".py",
   "mimetype": "text/x-python",
   "name": "python",
   "nbconvert_exporter": "python",
   "pygments_lexer": "ipython3",
   "version": "3.8.5"
  }
 },
 "nbformat": 4,
 "nbformat_minor": 4
}
