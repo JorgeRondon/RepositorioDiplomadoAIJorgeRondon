{
 "cells": [
  {
   "cell_type": "markdown",
   "metadata": {},
   "source": [
    "#### Ing. Jorge Eduardo Ronsón Ruiz\n",
    "#### jerondonr@unal.edu.co - 3012751445\n",
    "#### Universidad Nacional de Colombia"
   ]
  },
  {
   "cell_type": "markdown",
   "metadata": {},
   "source": [
    "# **<center> Manipulación y algebra de tensores </center>**"
   ]
  },
  {
   "cell_type": "markdown",
   "metadata": {},
   "source": [
    "# 1. Importar Librerias:"
   ]
  },
  {
   "cell_type": "code",
   "execution_count": 2,
   "metadata": {},
   "outputs": [],
   "source": [
    "import tensorflow as tf\n",
    "import numpy as np"
   ]
  },
  {
   "cell_type": "markdown",
   "metadata": {},
   "source": [
    "# 2. Creación de un tensor"
   ]
  },
  {
   "cell_type": "code",
   "execution_count": 4,
   "metadata": {},
   "outputs": [
    {
     "name": "stdout",
     "output_type": "stream",
     "text": [
      "tf.Tensor(4, shape=(), dtype=int32)\n"
     ]
    }
   ],
   "source": [
    "t0 = tf.constant(4)\n",
    "print(t0) #Tensor de orden 0 (1 solo dato)"
   ]
  },
  {
   "cell_type": "code",
   "execution_count": 5,
   "metadata": {},
   "outputs": [
    {
     "name": "stdout",
     "output_type": "stream",
     "text": [
      "tf.Tensor([1 3 4], shape=(3,), dtype=int32)\n"
     ]
    }
   ],
   "source": [
    "t1 = tf.constant([1, 3, 4])\n",
    "print(t1) #Tensor de orden 1 (vector)"
   ]
  },
  {
   "cell_type": "code",
   "execution_count": 6,
   "metadata": {},
   "outputs": [
    {
     "name": "stdout",
     "output_type": "stream",
     "text": [
      "tf.Tensor(\n",
      "[[1 2 3]\n",
      " [4 5 6]], shape=(2, 3), dtype=int32)\n"
     ]
    }
   ],
   "source": [
    "t23 = tf.constant([[1, 2, 3],[4, 5, 6]])\n",
    "print(t23) #Tensor de orden 2 (matriz)"
   ]
  },
  {
   "cell_type": "code",
   "execution_count": 7,
   "metadata": {},
   "outputs": [
    {
     "name": "stdout",
     "output_type": "stream",
     "text": [
      "tf.Tensor(\n",
      "[[[ 1  2  3  4  5]\n",
      "  [ 6  7  8  9 10]\n",
      "  [11 12 13 14 15]]\n",
      "\n",
      " [[16 17 18 19 20]\n",
      "  [21 22 23 24 25]\n",
      "  [26 27 28 29 30]]], shape=(2, 3, 5), dtype=int32)\n"
     ]
    }
   ],
   "source": [
    "t235 = tf.constant([[[1,2,3,4,5],[6,7,8,9,10],[11,12,13,14,15]],\n",
    "                    [[16,17,18,19,20],[21,22,23,24,25],[26,27,28,29,30]]])\n",
    "print(t235) #Tensor de orden 3 (dos matrices)"
   ]
  },
  {
   "cell_type": "code",
   "execution_count": 9,
   "metadata": {},
   "outputs": [
    {
     "data": {
      "text/plain": [
       "array([[[ 1,  2,  3,  4,  5],\n",
       "        [ 6,  7,  8,  9, 10],\n",
       "        [11, 12, 13, 14, 15]],\n",
       "\n",
       "       [[16, 17, 18, 19, 20],\n",
       "        [21, 22, 23, 24, 25],\n",
       "        [26, 27, 28, 29, 30]]], dtype=int32)"
      ]
     },
     "execution_count": 9,
     "metadata": {},
     "output_type": "execute_result"
    }
   ],
   "source": [
    "t235.numpy() #Conversión del objeto tensor a un objeto de numpy. Ojo, no lo estoy guardando, apenas lo veo como\n",
    "# array y luego vuelve a ser tensor"
   ]
  },
  {
   "cell_type": "code",
   "execution_count": 10,
   "metadata": {},
   "outputs": [
    {
     "data": {
      "text/plain": [
       "(2, 3, 5)"
      ]
     },
     "execution_count": 10,
     "metadata": {},
     "output_type": "execute_result"
    }
   ],
   "source": [
    "t235.numpy().shape"
   ]
  },
  {
   "cell_type": "code",
   "execution_count": 11,
   "metadata": {},
   "outputs": [
    {
     "data": {
      "text/plain": [
       "TensorShape([2, 3, 5])"
      ]
     },
     "execution_count": 11,
     "metadata": {},
     "output_type": "execute_result"
    }
   ],
   "source": [
    "t235.shape"
   ]
  },
  {
   "cell_type": "markdown",
   "metadata": {},
   "source": [
    "# 3. Algebra de tensores:"
   ]
  },
  {
   "cell_type": "code",
   "execution_count": 18,
   "metadata": {},
   "outputs": [
    {
     "name": "stdout",
     "output_type": "stream",
     "text": [
      "tf.Tensor(\n",
      "[[1 2]\n",
      " [3 4]], shape=(2, 2), dtype=int32) \n",
      "\n",
      "tf.Tensor(\n",
      "[[5 6]\n",
      " [7 8]], shape=(2, 2), dtype=int32) \n",
      "\n",
      "tf.Tensor(\n",
      "[[ 6  8]\n",
      " [10 12]], shape=(2, 2), dtype=int32) \n",
      "\n",
      "tf.Tensor(\n",
      "[[ 5 12]\n",
      " [21 32]], shape=(2, 2), dtype=int32) \n",
      "\n",
      "tf.Tensor(\n",
      "[[19 22]\n",
      " [43 50]], shape=(2, 2), dtype=int32) \n",
      "\n"
     ]
    }
   ],
   "source": [
    "a = tf.constant([[1,2],[3,4]]) #Crea un tensor de orden 2\n",
    "b = tf.constant([[5,6],[7,8]]) #Crea un tensor de orden 2\n",
    "\n",
    "print(a,\"\\n\")\n",
    "print(b,\"\\n\")\n",
    "print(tf.add(a,b),\"\\n\") #Realiza la suma punto a punto de los tensores a y b\n",
    "print(tf.multiply(a,b),\"\\n\") #Realiza la multiplicación punto a punto de los tensores a y b\n",
    "print(tf.matmul(a,b),\"\\n\") #Realiza la multiplicación de matrices de los tensores a y b"
   ]
  },
  {
   "cell_type": "code",
   "execution_count": 20,
   "metadata": {},
   "outputs": [
    {
     "name": "stdout",
     "output_type": "stream",
     "text": [
      "tf.Tensor(\n",
      "[[ 6  8]\n",
      " [10 12]], shape=(2, 2), dtype=int32) \n",
      "\n",
      "tf.Tensor(\n",
      "[[ 5 12]\n",
      " [21 32]], shape=(2, 2), dtype=int32) \n",
      "\n",
      "tf.Tensor(\n",
      "[[19 22]\n",
      " [43 50]], shape=(2, 2), dtype=int32) \n",
      "\n"
     ]
    }
   ],
   "source": [
    "print(a+b,\"\\n\") #Realiza la misma operación que la función tf.add()\n",
    "print(a*b, \"\\n\") #Realiza la misma operación que la función tf.multiply()\n",
    "print(a@b, \"\\n\") #Realiza la misma operación que la función tf.matmul()"
   ]
  },
  {
   "cell_type": "markdown",
   "metadata": {},
   "source": [
    "# 4. Funciones de reducción"
   ]
  },
  {
   "cell_type": "code",
   "execution_count": 21,
   "metadata": {},
   "outputs": [
    {
     "name": "stdout",
     "output_type": "stream",
     "text": [
      "tf.Tensor(\n",
      "[[ 4.  5.]\n",
      " [10.  1.]], shape=(2, 2), dtype=float32) \n",
      "\n",
      "tf.Tensor(10.0, shape=(), dtype=float32) \n",
      "\n",
      "tf.Tensor(1.0, shape=(), dtype=float32) \n",
      "\n",
      "tf.Tensor(5.0, shape=(), dtype=float32) \n",
      "\n",
      "tf.Tensor([1 0], shape=(2,), dtype=int64) \n",
      "\n",
      "tf.Tensor(\n",
      "[[2.6894143e-01 7.3105860e-01]\n",
      " [9.9987662e-01 1.2339458e-04]], shape=(2, 2), dtype=float32) \n",
      "\n",
      "tf.Tensor([1. 1.], shape=(2,), dtype=float32) \n",
      "\n"
     ]
    }
   ],
   "source": [
    "c = tf.constant([[4.0, 5.0],[10.0,1.0]]) #Crea un tensor de orden 2\n",
    "\n",
    "print(c,\"\\n\")\n",
    "print(tf.reduce_max(c),\"\\n\") #Me devuelve el máximo valor encontrado en el tensor.\n",
    "print(tf.reduce_min(c),\"\\n\") #Me devuelve el mínimo valor encontrado en el tensor.\n",
    "print(tf.reduce_mean(c),\"\\n\") #Me devuelve la media de los valores del tensor.\n",
    "print(tf.argmax(c),\"\\n\") # Me devuelve la posición del valor mas alto del tensor.\n",
    "print(tf.nn.softmax(c),\"\\n\") \n",
    "print(tf.reduce_sum(tf.nn.softmax(c),axis=1),\"\\n\")"
   ]
  },
  {
   "cell_type": "markdown",
   "metadata": {},
   "source": [
    "# 5. Tipo, forma y dimensión"
   ]
  },
  {
   "cell_type": "code",
   "execution_count": 26,
   "metadata": {},
   "outputs": [
    {
     "name": "stdout",
     "output_type": "stream",
     "text": [
      "<dtype: 'int32'> \n",
      "\n",
      "(3, 2, 5) \n",
      "\n",
      "3 \n",
      "\n",
      "5 \n",
      "\n",
      "tf.Tensor(30, shape=(), dtype=int32) \n",
      "\n"
     ]
    }
   ],
   "source": [
    "t = tf.constant([\n",
    "  [[0, 1, 2, 3, 4],\n",
    "   [5, 6, 7, 8, 9]],\n",
    "  [[10, 11, 12, 13, 14],\n",
    "   [15, 16, 17, 18, 19]],\n",
    "  [[20, 21, 22, 23, 24],\n",
    "   [25, 26, 27, 28, 29]],]) #Crea un tensor de orden 3\n",
    "print(t.dtype,\"\\n\") #Me devuelve el tipo de dato de los valores del tensor\n",
    "print(t.shape,\"\\n\") # Me devuelve la forma del tensor (cuantas columnas, filas, matrices, bloques de matrices, etc.)\n",
    "print(t.ndim,\"\\n\") # Me devuelve la dimensión del tensor.\n",
    "print(t.shape[2],\"\\n\") # Me devuelve la cantidad de elementos de la posición indicada: 2 matrices en este caso\n",
    "print(tf.size(t.numpy()),\"\\n\") # Me devuelve el tamaño del tensor."
   ]
  },
  {
   "cell_type": "markdown",
   "metadata": {},
   "source": [
    "# 6. Indexación"
   ]
  },
  {
   "cell_type": "code",
   "execution_count": 28,
   "metadata": {},
   "outputs": [
    {
     "name": "stdout",
     "output_type": "stream",
     "text": [
      "Primero:  tf.Tensor(0, shape=(), dtype=int32)\n",
      "Segundo:  tf.Tensor(1, shape=(), dtype=int32)\n",
      "Ultimo:  34\n"
     ]
    }
   ],
   "source": [
    "t1 =  tf.constant([0, 1, 1, 2, 3, 5, 8, 13, 21, 34])\n",
    "print(\"Primero: \", t1[0]) # Me devuelve el valor que se encuentra en la posición 0\n",
    "print(\"Segundo: \", t1[1]) # Me devuelve el valor que se encuentra en la posición 1\n",
    "print(\"Ultimo: \", t1[-1].numpy()) # Me devuelve el valor que se encuentra en la ultima posición del tensor"
   ]
  },
  {
   "cell_type": "code",
   "execution_count": 32,
   "metadata": {},
   "outputs": [
    {
     "name": "stdout",
     "output_type": "stream",
     "text": [
      "Todo [ 0  1  1  2  3  5  8 13 21 34]\n",
      "Antes la posición 4  [0 1 1 2]\n",
      "Desde la posición 4 hasta el final [ 3  5  8 13 21 34]\n",
      "Desde la posición 2 hasta anterior a 7 [3 5 8]\n",
      "Todos los elementos en posición par  [ 0  1  3  8 21]\n",
      "Invertido todo el orden [34 21 13  8  5  3  2  1  1  0]\n"
     ]
    }
   ],
   "source": [
    "print('Todo', t1[:].numpy()) # Me devuelve todos los valores del tensor.\n",
    "print('Antes la posición 4 ', t1[:4].numpy()) # Me devuelve desde la ṕosición 0 hasta la 4-1\n",
    "print('Desde la posición 4 hasta el final', t1[4:].numpy()) # Me devuelve los valores desde la posición 4 hasta la ultima\n",
    "print('Desde la posición 2 hasta anterior a 7', t1[4:7].numpy()) #Me devuelve los valores desde la posición 4 hasta la 7-1\n",
    "print('Todos los elementos en posición par ', t1[::2].numpy()) # Me devuelve todos los valores del tensor en pasos de 2 en 2\n",
    "print('Invertido todo el orden', t1[::-1].numpy()) #Me devuelve todos los elementos del tensor pero de forma descendente"
   ]
  },
  {
   "cell_type": "markdown",
   "metadata": {},
   "source": [
    "# 7. Indexación multieje"
   ]
  },
  {
   "cell_type": "code",
   "execution_count": 33,
   "metadata": {},
   "outputs": [
    {
     "name": "stdout",
     "output_type": "stream",
     "text": [
      "[[1 2 3]\n",
      " [4 5 6]]\n"
     ]
    }
   ],
   "source": [
    "t23 = tf.constant([[1, 2, 3],[4, 5, 6]])\n",
    "print(t23.numpy())"
   ]
  },
  {
   "cell_type": "code",
   "execution_count": 35,
   "metadata": {},
   "outputs": [
    {
     "name": "stdout",
     "output_type": "stream",
     "text": [
      "Posición 1,1 =  5\n",
      "Segunda fila:  [4 5 6]\n",
      "Segunda columna:  [2 5]\n",
      "Última columna:  [3 6]\n",
      "Primer elemento de la última columna:  3\n",
      "Saltarse la primera columna: \n",
      " [[2 3]\n",
      " [5 6]]\n"
     ]
    }
   ],
   "source": [
    "print('Posición 1,1 = ',t23[1,1].numpy()) # Me devuelve el valor de la posición 1,1 (fila 1, columna 1)\n",
    "print('Segunda fila: ', t23[1,:].numpy()) # Me devuelve todos los valores de la fila 1\n",
    "print('Segunda columna: ', t23[:,1].numpy()) # Me devuelve todos los valores de la columna 1\n",
    "print('Última columna: ', t23[:,-1].numpy()) # Me devuelve todos los valores de la ultima columna\n",
    "print('Primer elemento de la última columna: ', t23[0,-1].numpy()) #Me devuelve la ultima columnna de la fila 0\n",
    "print('Saltarse la primera columna: \\n', t23[:,1:].numpy()) # Me devuelve todos los valores de las columnas desde la 1 hasta la ultima"
   ]
  },
  {
   "cell_type": "code",
   "execution_count": 36,
   "metadata": {},
   "outputs": [
    {
     "name": "stdout",
     "output_type": "stream",
     "text": [
      "[[[ 0  1  2  3  4]\n",
      "  [ 5  6  7  8  9]]\n",
      "\n",
      " [[10 11 12 13 14]\n",
      "  [15 16 17 18 19]]\n",
      "\n",
      " [[20 21 22 23 24]\n",
      "  [25 26 27 28 29]]]\n"
     ]
    }
   ],
   "source": [
    "t = tf.constant([\n",
    "  [[0, 1, 2, 3, 4],\n",
    "   [5, 6, 7, 8, 9]],\n",
    "  [[10, 11, 12, 13, 14],\n",
    "   [15, 16, 17, 18, 19]],\n",
    "  [[20, 21, 22, 23, 24],\n",
    "   [25, 26, 27, 28, 29]],]) \n",
    "print(t.numpy())"
   ]
  },
  {
   "cell_type": "code",
   "execution_count": 37,
   "metadata": {},
   "outputs": [
    {
     "name": "stdout",
     "output_type": "stream",
     "text": [
      "Extrae la primera capa\n",
      " tf.Tensor(\n",
      "[[0 1 2 3 4]\n",
      " [5 6 7 8 9]], shape=(2, 5), dtype=int32)\n",
      "Extrae la segunda capa\n",
      " tf.Tensor(\n",
      "[[10 11 12 13 14]\n",
      " [15 16 17 18 19]], shape=(2, 5), dtype=int32)\n"
     ]
    }
   ],
   "source": [
    "print('Extrae la primera capa\\n', t[0,:,:]) #Me devuelve toda la primera matriz\n",
    "print('Extrae la segunda capa\\n', t[1]) #Me devuelve toda la segunda matriz"
   ]
  },
  {
   "cell_type": "markdown",
   "metadata": {},
   "source": [
    "# 8. Manipulación de forma:"
   ]
  },
  {
   "cell_type": "code",
   "execution_count": 38,
   "metadata": {},
   "outputs": [
    {
     "name": "stdout",
     "output_type": "stream",
     "text": [
      "(3, 1)\n",
      "[3, 1]\n"
     ]
    }
   ],
   "source": [
    "x = tf.constant([[1],[2],[3]])\n",
    "print(x.shape)\n",
    "print(x.shape.as_list())"
   ]
  },
  {
   "cell_type": "code",
   "execution_count": 41,
   "metadata": {},
   "outputs": [
    {
     "name": "stdout",
     "output_type": "stream",
     "text": [
      "[[1 2 3]]\n",
      "[[1]\n",
      " [2]\n",
      " [3]]\n"
     ]
    }
   ],
   "source": [
    "reshaped = tf.reshape(x,[1,3]) #Cambia la forma del tensor: pasa de tener 3 filas y 1 columna a tener 1 fila 3 columnas\n",
    "# y se almacena en la variable reshaped.\n",
    "print(reshaped.numpy())\n",
    "print(x.numpy())"
   ]
  },
  {
   "cell_type": "markdown",
   "metadata": {},
   "source": [
    "# 9. Aplanamiento del tensor:"
   ]
  },
  {
   "cell_type": "code",
   "execution_count": 43,
   "metadata": {},
   "outputs": [
    {
     "name": "stdout",
     "output_type": "stream",
     "text": [
      "t actual: \n",
      " [[[ 0  1  2  3  4]\n",
      "  [ 5  6  7  8  9]]\n",
      "\n",
      " [[10 11 12 13 14]\n",
      "  [15 16 17 18 19]]\n",
      "\n",
      " [[20 21 22 23 24]\n",
      "  [25 26 27 28 29]]]\n",
      "\n",
      " t aplanado: \n",
      " [ 0  1  2  3  4  5  6  7  8  9 10 11 12 13 14 15 16 17 18 19 20 21 22 23\n",
      " 24 25 26 27 28 29]\n"
     ]
    }
   ],
   "source": [
    "print(\"t actual: \\n\", t.numpy())\n",
    "flat = tf.reshape(t, [-1]) #Aplana el tensor, es decir, lo convierte en vector.\n",
    "print(\"\\n t aplanado: \\n\", flat.numpy())"
   ]
  },
  {
   "cell_type": "code",
   "execution_count": 44,
   "metadata": {},
   "outputs": [
    {
     "name": "stdout",
     "output_type": "stream",
     "text": [
      "[3, 2, 5]\n"
     ]
    }
   ],
   "source": [
    "print(t.shape.as_list())"
   ]
  },
  {
   "cell_type": "code",
   "execution_count": 46,
   "metadata": {},
   "outputs": [
    {
     "name": "stdout",
     "output_type": "stream",
     "text": [
      "tf.Tensor(\n",
      "[[ 0  1  2  3  4]\n",
      " [ 5  6  7  8  9]\n",
      " [10 11 12 13 14]\n",
      " [15 16 17 18 19]\n",
      " [20 21 22 23 24]\n",
      " [25 26 27 28 29]], shape=(6, 5), dtype=int32)\n"
     ]
    }
   ],
   "source": [
    "print(tf.reshape(t, [2*3,5])) #Modifica la forma del tensor en 2*3 filas y 5 columnas"
   ]
  },
  {
   "cell_type": "code",
   "execution_count": 48,
   "metadata": {},
   "outputs": [
    {
     "name": "stdout",
     "output_type": "stream",
     "text": [
      "tf.Tensor(\n",
      "[[ 0  1  2  3  4  5  6  7  8  9 10 11 12 13 14]\n",
      " [15 16 17 18 19 20 21 22 23 24 25 26 27 28 29]], shape=(2, 15), dtype=int32)\n"
     ]
    }
   ],
   "source": [
    "print(tf.reshape(t, [2,3*5])) #Modifica la forma del tensor en 2 filas y 3*5 columnas"
   ]
  },
  {
   "cell_type": "code",
   "execution_count": 53,
   "metadata": {},
   "outputs": [
    {
     "name": "stdout",
     "output_type": "stream",
     "text": [
      "tf.Tensor(\n",
      "[[ 0  1  2  3  4]\n",
      " [ 5  6  7  8  9]\n",
      " [10 11 12 13 14]\n",
      " [15 16 17 18 19]\n",
      " [20 21 22 23 24]\n",
      " [25 26 27 28 29]], shape=(6, 5), dtype=int32)\n"
     ]
    }
   ],
   "source": [
    "print(tf.reshape(t, [-1,5])) # Modifica la forma del tensor en 5 columnas y el -1 le indica a python que \n",
    "# debe buscar la cantidad de filas que organizan completamente todos los datos de la forma original."
   ]
  },
  {
   "cell_type": "code",
   "execution_count": 54,
   "metadata": {},
   "outputs": [
    {
     "name": "stdout",
     "output_type": "stream",
     "text": [
      "tf.Tensor(\n",
      "[[ 0  1  2  3  4  5  6  7  8  9]\n",
      " [10 11 12 13 14 15 16 17 18 19]\n",
      " [20 21 22 23 24 25 26 27 28 29]], shape=(3, 10), dtype=int32)\n"
     ]
    }
   ],
   "source": [
    "print(tf.reshape(t, [3,-1])) #Igual que el caso anterior pero ahora ajusta las columnas."
   ]
  },
  {
   "cell_type": "code",
   "execution_count": 55,
   "metadata": {},
   "outputs": [
    {
     "name": "stdout",
     "output_type": "stream",
     "text": [
      "tf.Tensor(\n",
      "[[[ 0  1  2  3  4]\n",
      "  [ 5  6  7  8  9]]\n",
      "\n",
      " [[10 11 12 13 14]\n",
      "  [15 16 17 18 19]]\n",
      "\n",
      " [[20 21 22 23 24]\n",
      "  [25 26 27 28 29]]], shape=(3, 2, 5), dtype=int32)\n"
     ]
    }
   ],
   "source": [
    "print(tf.reshape(t, [3,2,5])) # Modifica la forma a 3 matrices de 2 filas y 5 columnas c/u."
   ]
  },
  {
   "cell_type": "markdown",
   "metadata": {},
   "source": [
    "# 9. Definición Conversión de tipos .cast"
   ]
  },
  {
   "cell_type": "code",
   "execution_count": 56,
   "metadata": {},
   "outputs": [
    {
     "name": "stdout",
     "output_type": "stream",
     "text": [
      "tf.Tensor([2. 4. 6.], shape=(3,), dtype=float64)\n",
      "tf.Tensor([2. 4. 6.], shape=(3,), dtype=float16)\n",
      "tf.Tensor([2 4 6], shape=(3,), dtype=uint8)\n"
     ]
    }
   ],
   "source": [
    "f64_tensor = tf.constant([2.0, 4.0, 6.0], dtype = tf.float64)\n",
    "print(f64_tensor) # Crea un tensor cuyos tipos de datos se especifican como float64\n",
    "\n",
    "f16_tensor = tf.cast(f64_tensor,dtype= tf.float16) #Se convierte el tipo de dato de los valores del tensor a float16\n",
    "print(f16_tensor)\n",
    "\n",
    "u8_tensor = tf.cast(f16_tensor, dtype = tf.uint8) # Se convierte a intero sin signo\n",
    "print(u8_tensor)"
   ]
  },
  {
   "cell_type": "markdown",
   "metadata": {},
   "source": [
    "# 10. Radiodifusión:\n",
    "La radiodifusión es un concepto tomado de la función equivalente en NumPy . En resumen, bajo ciertas condiciones, los tensores más pequeños se \"estiran\" automáticamente para adaptarse a tensores más grandes cuando se ejecutan operaciones combinadas en ellos."
   ]
  },
  {
   "cell_type": "code",
   "execution_count": 57,
   "metadata": {},
   "outputs": [
    {
     "name": "stdout",
     "output_type": "stream",
     "text": [
      "tf.Tensor([2 4 6], shape=(3,), dtype=int32)\n",
      "tf.Tensor([2 4 6], shape=(3,), dtype=int32)\n",
      "tf.Tensor([2 4 6], shape=(3,), dtype=int32)\n"
     ]
    }
   ],
   "source": [
    "x = tf.constant([1, 2 ,3])\n",
    "y = tf.constant(2)\n",
    "z = tf.constant([2, 2 ,2])\n",
    "\n",
    "# el mismo resultado\n",
    "print(tf.multiply(x,2))\n",
    "print(x*y) # El tensor y se convierte en un tensor de iguales dimensiones que el otro termino de la multiplicación\n",
    "print(x*z)"
   ]
  },
  {
   "cell_type": "code",
   "execution_count": 60,
   "metadata": {},
   "outputs": [
    {
     "name": "stdout",
     "output_type": "stream",
     "text": [
      "tf.Tensor(\n",
      "[[1]\n",
      " [2]\n",
      " [3]], shape=(3, 1), dtype=int32) \n",
      "\n",
      "tf.Tensor([1 2 3 4], shape=(4,), dtype=int32) \n",
      "\n"
     ]
    }
   ],
   "source": [
    "x = tf.reshape(x, [3,1])\n",
    "y = tf.range(1,5) #crea un vector con numeros enteros en pasos de 1 desde 1 hasta 5-1\n",
    "print(x, \"\\n\")\n",
    "print(y, \"\\n\")"
   ]
  },
  {
   "cell_type": "code",
   "execution_count": 61,
   "metadata": {},
   "outputs": [
    {
     "name": "stdout",
     "output_type": "stream",
     "text": [
      "tf.Tensor(\n",
      "[[ 1  2  3  4]\n",
      " [ 2  4  6  8]\n",
      " [ 3  6  9 12]], shape=(3, 4), dtype=int32)\n"
     ]
    }
   ],
   "source": [
    "print(tf.multiply(x,y))"
   ]
  },
  {
   "cell_type": "code",
   "execution_count": 62,
   "metadata": {},
   "outputs": [
    {
     "name": "stdout",
     "output_type": "stream",
     "text": [
      "tf.Tensor(\n",
      "[[1 2 3]\n",
      " [1 2 3]\n",
      " [1 2 3]], shape=(3, 3), dtype=int32)\n"
     ]
    }
   ],
   "source": [
    "print(tf.broadcast_to([1,2,3], [3,3])) # Crea un tensor de 3 filas y 3 columnas con los valores de la lista."
   ]
  },
  {
   "cell_type": "markdown",
   "metadata": {},
   "source": [
    "# 11. Tensores irregulares:"
   ]
  },
  {
   "cell_type": "code",
   "execution_count": 63,
   "metadata": {},
   "outputs": [
    {
     "name": "stdout",
     "output_type": "stream",
     "text": [
      "(4, None)\n"
     ]
    }
   ],
   "source": [
    "ragged_list = [\n",
    "    [0, 1, 2, 3],\n",
    "    [4, 5],\n",
    "    [6, 7, 8],\n",
    "    [9]]\n",
    "ragged_t = tf.ragged.constant(ragged_list)\n",
    "print(ragged_t.shape) #Crea un tensor de 4 filas pero no define una cantidad de columnas."
   ]
  },
  {
   "cell_type": "markdown",
   "metadata": {},
   "source": [
    "# 12. Tensores de strings"
   ]
  },
  {
   "cell_type": "code",
   "execution_count": 65,
   "metadata": {},
   "outputs": [
    {
     "name": "stdout",
     "output_type": "stream",
     "text": [
      "tf.Tensor(b'Este tensor string', shape=(), dtype=string)\n"
     ]
    }
   ],
   "source": [
    "st = tf.constant(\"Este tensor string\")\n",
    "print(st) # El prefijo b indica que el tipo (dtype)  tf.string no es unicode."
   ]
  },
  {
   "cell_type": "code",
   "execution_count": 66,
   "metadata": {},
   "outputs": [
    {
     "name": "stdout",
     "output_type": "stream",
     "text": [
      "tf.Tensor([b'Este' b'tensor' b'string'], shape=(3,), dtype=string)\n"
     ]
    }
   ],
   "source": [
    "print(tf.strings.split(st)) #Divide el tensor por palabras"
   ]
  },
  {
   "cell_type": "code",
   "execution_count": 68,
   "metadata": {},
   "outputs": [
    {
     "name": "stdout",
     "output_type": "stream",
     "text": [
      "tf.Tensor([ 1.  10.  10.4], shape=(3,), dtype=float32)\n"
     ]
    }
   ],
   "source": [
    "st = tf.constant(\"1 10 10.4\")\n",
    "\n",
    "print(tf.strings.to_number(tf.strings.split(st, \" \")))\n",
    "# Imprime un tensor string convertido a numero identificando cada numero por que los separa un espacio \" \""
   ]
  },
  {
   "cell_type": "markdown",
   "metadata": {},
   "source": [
    "# 13. Tensores dispersos"
   ]
  },
  {
   "cell_type": "code",
   "execution_count": 69,
   "metadata": {},
   "outputs": [
    {
     "name": "stdout",
     "output_type": "stream",
     "text": [
      "SparseTensor(indices=tf.Tensor(\n",
      "[[0 1]\n",
      " [1 2]], shape=(2, 2), dtype=int64), values=tf.Tensor([1 2], shape=(2,), dtype=int32), dense_shape=tf.Tensor([3 4], shape=(2,), dtype=int64)) \n",
      "\n",
      "tf.Tensor(\n",
      "[[0 1 0 0]\n",
      " [0 0 2 0]\n",
      " [0 0 0 0]], shape=(3, 4), dtype=int32)\n"
     ]
    }
   ],
   "source": [
    "#  tensor disperso\n",
    "sparse_tensor = tf.sparse.SparseTensor(indices = [[0,1], [1,2]],\n",
    "                                       values = [1,2],\n",
    "                                       dense_shape\n",
    "                                        =[3,4])\n",
    "print(sparse_tensor, \"\\n\")\n",
    "\n",
    "# convierte a tensor denso\n",
    "print(tf.sparse.to_dense(sparse_tensor))"
   ]
  },
  {
   "cell_type": "code",
   "execution_count": null,
   "metadata": {},
   "outputs": [],
   "source": []
  }
 ],
 "metadata": {
  "kernelspec": {
   "display_name": "Python 3",
   "language": "python",
   "name": "python3"
  },
  "language_info": {
   "codemirror_mode": {
    "name": "ipython",
    "version": 3
   },
   "file_extension": ".py",
   "mimetype": "text/x-python",
   "name": "python",
   "nbconvert_exporter": "python",
   "pygments_lexer": "ipython3",
   "version": "3.8.5"
  }
 },
 "nbformat": 4,
 "nbformat_minor": 4
}
