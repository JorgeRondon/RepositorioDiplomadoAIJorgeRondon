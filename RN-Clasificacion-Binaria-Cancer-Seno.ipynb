{
 "cells": [
  {
   "cell_type": "markdown",
   "metadata": {},
   "source": [
    "#### Ing. Jorge Eduardo Ronsón Ruiz\n",
    "#### jerondonr@unal.edu.co - 3012751445\n",
    "#### Universidad Nacional de Colombia"
   ]
  },
  {
   "cell_type": "markdown",
   "metadata": {},
   "source": [
    "# **<center> Red Neuronal de clasificación binaria</center>**"
   ]
  },
  {
   "cell_type": "markdown",
   "metadata": {},
   "source": [
    "# 1. Importar librerias"
   ]
  },
  {
   "cell_type": "code",
   "execution_count": 1,
   "metadata": {},
   "outputs": [],
   "source": [
    "from __future__ import absolute_import, division, print_function, unicode_literals\n",
    "#\n",
    "import pandas as pd\n",
    "import matplotlib.pyplot as plt\n",
    "import seaborn as sns\n",
    "import tensorflow as tf\n",
    "#\n",
    "from tensorflow.keras.models import Sequential\n",
    "#\n",
    "from tensorflow.keras.layers import Dense, Dropout\n",
    "#\n",
    "from tensorflow.keras.utils import plot_model\n",
    "#\n",
    "from sklearn.preprocessing import LabelEncoder\n",
    "from sklearn.model_selection import train_test_split\n",
    "from sklearn.preprocessing import StandardScaler\n",
    "from sklearn.metrics import confusion_matrix"
   ]
  },
  {
   "cell_type": "markdown",
   "metadata": {},
   "source": [
    "# 2. Cargar Datos"
   ]
  },
  {
   "cell_type": "code",
   "execution_count": 20,
   "metadata": {},
   "outputs": [
    {
     "data": {
      "text/plain": [
       "(569, 32)"
      ]
     },
     "execution_count": 20,
     "metadata": {},
     "output_type": "execute_result"
    }
   ],
   "source": [
    "# Importing data\n",
    "dataPath=\"/home/jorgerondon/Documentos/InteligenciaArtificial/DiplomadoIA/CuadernosJupyterJorgeE/datosCancerSeno/data.csv\"\n",
    "data = pd.read_csv(dataPath)\n",
    "del data['Unnamed: 32'] #Elimina la columna \"Unnamed: 32\" que tiene valores NaN\n",
    "data.shape"
   ]
  },
  {
   "cell_type": "code",
   "execution_count": 21,
   "metadata": {},
   "outputs": [
    {
     "data": {
      "text/html": [
       "<div>\n",
       "<style scoped>\n",
       "    .dataframe tbody tr th:only-of-type {\n",
       "        vertical-align: middle;\n",
       "    }\n",
       "\n",
       "    .dataframe tbody tr th {\n",
       "        vertical-align: top;\n",
       "    }\n",
       "\n",
       "    .dataframe thead th {\n",
       "        text-align: right;\n",
       "    }\n",
       "</style>\n",
       "<table border=\"1\" class=\"dataframe\">\n",
       "  <thead>\n",
       "    <tr style=\"text-align: right;\">\n",
       "      <th></th>\n",
       "      <th>id</th>\n",
       "      <th>diagnosis</th>\n",
       "      <th>radius_mean</th>\n",
       "      <th>texture_mean</th>\n",
       "      <th>perimeter_mean</th>\n",
       "      <th>area_mean</th>\n",
       "      <th>smoothness_mean</th>\n",
       "      <th>compactness_mean</th>\n",
       "      <th>concavity_mean</th>\n",
       "      <th>concave points_mean</th>\n",
       "      <th>...</th>\n",
       "      <th>radius_worst</th>\n",
       "      <th>texture_worst</th>\n",
       "      <th>perimeter_worst</th>\n",
       "      <th>area_worst</th>\n",
       "      <th>smoothness_worst</th>\n",
       "      <th>compactness_worst</th>\n",
       "      <th>concavity_worst</th>\n",
       "      <th>concave points_worst</th>\n",
       "      <th>symmetry_worst</th>\n",
       "      <th>fractal_dimension_worst</th>\n",
       "    </tr>\n",
       "  </thead>\n",
       "  <tbody>\n",
       "    <tr>\n",
       "      <th>0</th>\n",
       "      <td>842302</td>\n",
       "      <td>M</td>\n",
       "      <td>17.99</td>\n",
       "      <td>10.38</td>\n",
       "      <td>122.8</td>\n",
       "      <td>1001.0</td>\n",
       "      <td>0.11840</td>\n",
       "      <td>0.27760</td>\n",
       "      <td>0.3001</td>\n",
       "      <td>0.14710</td>\n",
       "      <td>...</td>\n",
       "      <td>25.38</td>\n",
       "      <td>17.33</td>\n",
       "      <td>184.6</td>\n",
       "      <td>2019.0</td>\n",
       "      <td>0.1622</td>\n",
       "      <td>0.6656</td>\n",
       "      <td>0.7119</td>\n",
       "      <td>0.2654</td>\n",
       "      <td>0.4601</td>\n",
       "      <td>0.11890</td>\n",
       "    </tr>\n",
       "    <tr>\n",
       "      <th>1</th>\n",
       "      <td>842517</td>\n",
       "      <td>M</td>\n",
       "      <td>20.57</td>\n",
       "      <td>17.77</td>\n",
       "      <td>132.9</td>\n",
       "      <td>1326.0</td>\n",
       "      <td>0.08474</td>\n",
       "      <td>0.07864</td>\n",
       "      <td>0.0869</td>\n",
       "      <td>0.07017</td>\n",
       "      <td>...</td>\n",
       "      <td>24.99</td>\n",
       "      <td>23.41</td>\n",
       "      <td>158.8</td>\n",
       "      <td>1956.0</td>\n",
       "      <td>0.1238</td>\n",
       "      <td>0.1866</td>\n",
       "      <td>0.2416</td>\n",
       "      <td>0.1860</td>\n",
       "      <td>0.2750</td>\n",
       "      <td>0.08902</td>\n",
       "    </tr>\n",
       "    <tr>\n",
       "      <th>2</th>\n",
       "      <td>84300903</td>\n",
       "      <td>M</td>\n",
       "      <td>19.69</td>\n",
       "      <td>21.25</td>\n",
       "      <td>130.0</td>\n",
       "      <td>1203.0</td>\n",
       "      <td>0.10960</td>\n",
       "      <td>0.15990</td>\n",
       "      <td>0.1974</td>\n",
       "      <td>0.12790</td>\n",
       "      <td>...</td>\n",
       "      <td>23.57</td>\n",
       "      <td>25.53</td>\n",
       "      <td>152.5</td>\n",
       "      <td>1709.0</td>\n",
       "      <td>0.1444</td>\n",
       "      <td>0.4245</td>\n",
       "      <td>0.4504</td>\n",
       "      <td>0.2430</td>\n",
       "      <td>0.3613</td>\n",
       "      <td>0.08758</td>\n",
       "    </tr>\n",
       "  </tbody>\n",
       "</table>\n",
       "<p>3 rows × 32 columns</p>\n",
       "</div>"
      ],
      "text/plain": [
       "         id diagnosis  radius_mean  texture_mean  perimeter_mean  area_mean  \\\n",
       "0    842302         M        17.99         10.38           122.8     1001.0   \n",
       "1    842517         M        20.57         17.77           132.9     1326.0   \n",
       "2  84300903         M        19.69         21.25           130.0     1203.0   \n",
       "\n",
       "   smoothness_mean  compactness_mean  concavity_mean  concave points_mean  \\\n",
       "0          0.11840           0.27760          0.3001              0.14710   \n",
       "1          0.08474           0.07864          0.0869              0.07017   \n",
       "2          0.10960           0.15990          0.1974              0.12790   \n",
       "\n",
       "   ...  radius_worst  texture_worst  perimeter_worst  area_worst  \\\n",
       "0  ...         25.38          17.33            184.6      2019.0   \n",
       "1  ...         24.99          23.41            158.8      1956.0   \n",
       "2  ...         23.57          25.53            152.5      1709.0   \n",
       "\n",
       "   smoothness_worst  compactness_worst  concavity_worst  concave points_worst  \\\n",
       "0            0.1622             0.6656           0.7119                0.2654   \n",
       "1            0.1238             0.1866           0.2416                0.1860   \n",
       "2            0.1444             0.4245           0.4504                0.2430   \n",
       "\n",
       "   symmetry_worst  fractal_dimension_worst  \n",
       "0          0.4601                  0.11890  \n",
       "1          0.2750                  0.08902  \n",
       "2          0.3613                  0.08758  \n",
       "\n",
       "[3 rows x 32 columns]"
      ]
     },
     "execution_count": 21,
     "metadata": {},
     "output_type": "execute_result"
    }
   ],
   "source": [
    "data.head(3)"
   ]
  },
  {
   "cell_type": "markdown",
   "metadata": {},
   "source": [
    "# 3. Preprocesamiento"
   ]
  },
  {
   "cell_type": "code",
   "execution_count": 22,
   "metadata": {},
   "outputs": [],
   "source": [
    "x = data.iloc[:,2:].values # extrae como tensores numpy los datos de todas las filas pero de la columna 2 hasta la ultima columna\n",
    "y = data.iloc[:,1].values #Extrae todas las filas de la columna 1. Note que esta columna contiene las etiquetas."
   ]
  },
  {
   "cell_type": "code",
   "execution_count": 23,
   "metadata": {},
   "outputs": [
    {
     "data": {
      "text/plain": [
       "(569, 30)"
      ]
     },
     "execution_count": 23,
     "metadata": {},
     "output_type": "execute_result"
    }
   ],
   "source": [
    "x.shape"
   ]
  },
  {
   "cell_type": "code",
   "execution_count": 24,
   "metadata": {},
   "outputs": [
    {
     "data": {
      "text/plain": [
       "(569,)"
      ]
     },
     "execution_count": 24,
     "metadata": {},
     "output_type": "execute_result"
    }
   ],
   "source": [
    "y.shape"
   ]
  },
  {
   "cell_type": "code",
   "execution_count": 26,
   "metadata": {},
   "outputs": [],
   "source": [
    "labelencoder_y = LabelEncoder() #Recodifica la variable objetivo\n",
    "y = labelencoder_y.fit_transform(y)"
   ]
  },
  {
   "cell_type": "code",
   "execution_count": 30,
   "metadata": {},
   "outputs": [
    {
     "data": {
      "text/plain": [
       "(57, 30)"
      ]
     },
     "execution_count": 30,
     "metadata": {},
     "output_type": "execute_result"
    }
   ],
   "source": [
    "x_train, x_test, y_train, y_test = train_test_split(x, y, test_size = 0.1, random_state = 0)\n",
    "x_test.shape #Note que la cantidad de files corresponden al 10% del total de datos como se indica en test_size."
   ]
  },
  {
   "cell_type": "code",
   "execution_count": 31,
   "metadata": {},
   "outputs": [
    {
     "data": {
      "text/plain": [
       "(512, 30)"
      ]
     },
     "execution_count": 31,
     "metadata": {},
     "output_type": "execute_result"
    }
   ],
   "source": [
    "x_train.shape"
   ]
  },
  {
   "cell_type": "markdown",
   "metadata": {},
   "source": [
    "# 4. Normalización"
   ]
  },
  {
   "cell_type": "code",
   "execution_count": 32,
   "metadata": {},
   "outputs": [],
   "source": [
    "sc = StandardScaler()\n",
    "sc.fit(x_train)\n",
    "x_train = sc.transform(x_train)\n",
    "x_test = sc.transform(x_test)"
   ]
  },
  {
   "cell_type": "markdown",
   "metadata": {},
   "source": [
    "# 5. Creación del modelo"
   ]
  },
  {
   "cell_type": "code",
   "execution_count": 79,
   "metadata": {},
   "outputs": [],
   "source": [
    "classifier = Sequential()\n",
    "## Adiciona capas una por una\n",
    "classifier.add(Dense(units=16, activation='relu', input_shape=(30,))) #El input_shape tiene 30 filas que concide con los features (columnas de los datos)\n",
    "# Adding dropout to prevent overfitting (regularización)\n",
    "classifier.add(Dropout(0.1)) # 30% out in each epoc\n",
    "classifier.add(Dense(units=16, activation='relu'))\n",
    "# Adding dropout to prevent overfitting (regularización)\n",
    "classifier.add(Dropout(0.1))\n",
    "classifier.add(Dense(units=1, activation='sigmoid')) #Solo tiene una neurona de salida, ya que con esto es suficiente para realizar la clasificación de este problema."
   ]
  },
  {
   "cell_type": "markdown",
   "metadata": {},
   "source": [
    "# 6. Compilar modelo"
   ]
  },
  {
   "cell_type": "code",
   "execution_count": 80,
   "metadata": {},
   "outputs": [],
   "source": [
    "classifier.compile(optimizer='adam', loss='binary_crossentropy', metrics=['accuracy'])"
   ]
  },
  {
   "cell_type": "code",
   "execution_count": 81,
   "metadata": {},
   "outputs": [
    {
     "name": "stdout",
     "output_type": "stream",
     "text": [
      "Model: \"sequential_4\"\n",
      "_________________________________________________________________\n",
      "Layer (type)                 Output Shape              Param #   \n",
      "=================================================================\n",
      "dense_12 (Dense)             (None, 16)                496       \n",
      "_________________________________________________________________\n",
      "dropout_8 (Dropout)          (None, 16)                0         \n",
      "_________________________________________________________________\n",
      "dense_13 (Dense)             (None, 16)                272       \n",
      "_________________________________________________________________\n",
      "dropout_9 (Dropout)          (None, 16)                0         \n",
      "_________________________________________________________________\n",
      "dense_14 (Dense)             (None, 1)                 17        \n",
      "=================================================================\n",
      "Total params: 785\n",
      "Trainable params: 785\n",
      "Non-trainable params: 0\n",
      "_________________________________________________________________\n",
      "Failed to import pydot. You must install pydot and graphviz for `pydotprint` to work.\n"
     ]
    }
   ],
   "source": [
    "classifier.summary()\n",
    "plot_model(classifier, to_file='../Imagenes/cancer_seno.png', \n",
    "           show_shapes=True)"
   ]
  },
  {
   "cell_type": "markdown",
   "metadata": {},
   "source": [
    "# 7. Entrenamiento del modelo"
   ]
  },
  {
   "cell_type": "code",
   "execution_count": 82,
   "metadata": {},
   "outputs": [
    {
     "name": "stdout",
     "output_type": "stream",
     "text": [
      "Epoch 1/150\n",
      "13/13 [==============================] - 0s 32ms/step - loss: 0.7245 - accuracy: 0.3961 - val_loss: 0.6134 - val_accuracy: 0.4660\n",
      "Epoch 2/150\n",
      "13/13 [==============================] - 0s 16ms/step - loss: 0.6135 - accuracy: 0.5086 - val_loss: 0.5327 - val_accuracy: 0.6893\n",
      "Epoch 3/150\n",
      "13/13 [==============================] - 0s 15ms/step - loss: 0.5341 - accuracy: 0.7408 - val_loss: 0.4697 - val_accuracy: 0.8447\n",
      "Epoch 4/150\n",
      "13/13 [==============================] - 0s 14ms/step - loss: 0.4680 - accuracy: 0.8680 - val_loss: 0.4172 - val_accuracy: 0.9029\n",
      "Epoch 5/150\n",
      "13/13 [==============================] - 0s 15ms/step - loss: 0.4221 - accuracy: 0.9120 - val_loss: 0.3682 - val_accuracy: 0.9126\n",
      "Epoch 6/150\n",
      "13/13 [==============================] - 0s 21ms/step - loss: 0.3670 - accuracy: 0.9315 - val_loss: 0.3204 - val_accuracy: 0.9417\n",
      "Epoch 7/150\n",
      "13/13 [==============================] - 0s 18ms/step - loss: 0.3294 - accuracy: 0.9389 - val_loss: 0.2733 - val_accuracy: 0.9612\n",
      "Epoch 8/150\n",
      "13/13 [==============================] - 0s 18ms/step - loss: 0.2899 - accuracy: 0.9389 - val_loss: 0.2291 - val_accuracy: 0.9806\n",
      "Epoch 9/150\n",
      "13/13 [==============================] - 0s 16ms/step - loss: 0.2511 - accuracy: 0.9413 - val_loss: 0.1917 - val_accuracy: 0.9903\n",
      "Epoch 10/150\n",
      "13/13 [==============================] - 0s 16ms/step - loss: 0.2059 - accuracy: 0.9633 - val_loss: 0.1588 - val_accuracy: 1.0000\n",
      "Epoch 11/150\n",
      "13/13 [==============================] - 0s 17ms/step - loss: 0.1737 - accuracy: 0.9682 - val_loss: 0.1327 - val_accuracy: 1.0000\n",
      "Epoch 12/150\n",
      "13/13 [==============================] - 0s 14ms/step - loss: 0.1711 - accuracy: 0.9584 - val_loss: 0.1117 - val_accuracy: 1.0000\n",
      "Epoch 13/150\n",
      "13/13 [==============================] - 0s 13ms/step - loss: 0.1453 - accuracy: 0.9584 - val_loss: 0.0953 - val_accuracy: 1.0000\n",
      "Epoch 14/150\n",
      "13/13 [==============================] - 0s 14ms/step - loss: 0.1331 - accuracy: 0.9731 - val_loss: 0.0834 - val_accuracy: 1.0000\n",
      "Epoch 15/150\n",
      "13/13 [==============================] - 0s 13ms/step - loss: 0.1281 - accuracy: 0.9633 - val_loss: 0.0738 - val_accuracy: 1.0000\n",
      "Epoch 16/150\n",
      "13/13 [==============================] - 0s 14ms/step - loss: 0.1215 - accuracy: 0.9707 - val_loss: 0.0656 - val_accuracy: 1.0000\n",
      "Epoch 17/150\n",
      "13/13 [==============================] - 0s 18ms/step - loss: 0.1172 - accuracy: 0.9682 - val_loss: 0.0594 - val_accuracy: 1.0000\n",
      "Epoch 18/150\n",
      "13/13 [==============================] - 0s 20ms/step - loss: 0.1008 - accuracy: 0.9780 - val_loss: 0.0543 - val_accuracy: 1.0000\n",
      "Epoch 19/150\n",
      "13/13 [==============================] - 0s 15ms/step - loss: 0.0979 - accuracy: 0.9756 - val_loss: 0.0502 - val_accuracy: 1.0000\n",
      "Epoch 20/150\n",
      "13/13 [==============================] - 0s 17ms/step - loss: 0.0993 - accuracy: 0.9731 - val_loss: 0.0472 - val_accuracy: 1.0000\n",
      "Epoch 21/150\n",
      "13/13 [==============================] - 0s 12ms/step - loss: 0.0923 - accuracy: 0.9756 - val_loss: 0.0450 - val_accuracy: 1.0000\n",
      "Epoch 22/150\n",
      "13/13 [==============================] - 0s 17ms/step - loss: 0.0877 - accuracy: 0.9756 - val_loss: 0.0420 - val_accuracy: 1.0000\n",
      "Epoch 23/150\n",
      "13/13 [==============================] - 0s 15ms/step - loss: 0.0883 - accuracy: 0.9853 - val_loss: 0.0398 - val_accuracy: 1.0000\n",
      "Epoch 24/150\n",
      "13/13 [==============================] - 0s 15ms/step - loss: 0.0848 - accuracy: 0.9780 - val_loss: 0.0381 - val_accuracy: 1.0000\n",
      "Epoch 25/150\n",
      "13/13 [==============================] - 0s 12ms/step - loss: 0.0791 - accuracy: 0.9804 - val_loss: 0.0368 - val_accuracy: 1.0000\n",
      "Epoch 26/150\n",
      "13/13 [==============================] - 0s 15ms/step - loss: 0.0820 - accuracy: 0.9756 - val_loss: 0.0357 - val_accuracy: 1.0000\n",
      "Epoch 27/150\n",
      "13/13 [==============================] - 0s 21ms/step - loss: 0.0774 - accuracy: 0.9829 - val_loss: 0.0344 - val_accuracy: 1.0000\n",
      "Epoch 28/150\n",
      "13/13 [==============================] - 0s 16ms/step - loss: 0.0784 - accuracy: 0.9804 - val_loss: 0.0333 - val_accuracy: 1.0000\n",
      "Epoch 29/150\n",
      "13/13 [==============================] - 0s 16ms/step - loss: 0.0785 - accuracy: 0.9780 - val_loss: 0.0323 - val_accuracy: 1.0000\n",
      "Epoch 30/150\n",
      "13/13 [==============================] - 0s 13ms/step - loss: 0.0777 - accuracy: 0.9780 - val_loss: 0.0309 - val_accuracy: 1.0000\n",
      "Epoch 31/150\n",
      "13/13 [==============================] - 0s 20ms/step - loss: 0.0712 - accuracy: 0.9804 - val_loss: 0.0298 - val_accuracy: 1.0000\n",
      "Epoch 32/150\n",
      "13/13 [==============================] - 0s 13ms/step - loss: 0.0738 - accuracy: 0.9829 - val_loss: 0.0293 - val_accuracy: 1.0000\n",
      "Epoch 33/150\n",
      "13/13 [==============================] - 0s 15ms/step - loss: 0.0649 - accuracy: 0.9829 - val_loss: 0.0294 - val_accuracy: 1.0000\n",
      "Epoch 34/150\n",
      "13/13 [==============================] - 0s 12ms/step - loss: 0.0718 - accuracy: 0.9804 - val_loss: 0.0290 - val_accuracy: 1.0000\n",
      "Epoch 35/150\n",
      "13/13 [==============================] - 0s 13ms/step - loss: 0.0716 - accuracy: 0.9780 - val_loss: 0.0283 - val_accuracy: 1.0000\n",
      "Epoch 36/150\n",
      "13/13 [==============================] - 0s 12ms/step - loss: 0.0553 - accuracy: 0.9804 - val_loss: 0.0275 - val_accuracy: 1.0000\n",
      "Epoch 37/150\n",
      "13/13 [==============================] - 0s 16ms/step - loss: 0.0637 - accuracy: 0.9853 - val_loss: 0.0277 - val_accuracy: 1.0000\n",
      "Epoch 38/150\n",
      "13/13 [==============================] - 0s 13ms/step - loss: 0.0596 - accuracy: 0.9829 - val_loss: 0.0268 - val_accuracy: 1.0000\n",
      "Epoch 39/150\n",
      "13/13 [==============================] - 0s 15ms/step - loss: 0.0546 - accuracy: 0.9829 - val_loss: 0.0265 - val_accuracy: 1.0000\n",
      "Epoch 40/150\n",
      "13/13 [==============================] - 0s 12ms/step - loss: 0.0631 - accuracy: 0.9829 - val_loss: 0.0260 - val_accuracy: 1.0000\n",
      "Epoch 41/150\n",
      "13/13 [==============================] - 0s 11ms/step - loss: 0.0629 - accuracy: 0.9829 - val_loss: 0.0257 - val_accuracy: 1.0000\n",
      "Epoch 42/150\n",
      "13/13 [==============================] - 0s 12ms/step - loss: 0.0569 - accuracy: 0.9829 - val_loss: 0.0258 - val_accuracy: 1.0000\n",
      "Epoch 43/150\n",
      "13/13 [==============================] - 0s 18ms/step - loss: 0.0663 - accuracy: 0.9853 - val_loss: 0.0252 - val_accuracy: 1.0000\n",
      "Epoch 44/150\n",
      "13/13 [==============================] - 0s 13ms/step - loss: 0.0605 - accuracy: 0.9878 - val_loss: 0.0256 - val_accuracy: 1.0000\n",
      "Epoch 45/150\n",
      "13/13 [==============================] - 0s 14ms/step - loss: 0.0542 - accuracy: 0.9853 - val_loss: 0.0253 - val_accuracy: 1.0000\n",
      "Epoch 46/150\n",
      "13/13 [==============================] - 0s 12ms/step - loss: 0.0531 - accuracy: 0.9853 - val_loss: 0.0253 - val_accuracy: 1.0000\n",
      "Epoch 47/150\n",
      "13/13 [==============================] - 0s 12ms/step - loss: 0.0533 - accuracy: 0.9878 - val_loss: 0.0242 - val_accuracy: 1.0000\n",
      "Epoch 48/150\n",
      "13/13 [==============================] - 0s 11ms/step - loss: 0.0566 - accuracy: 0.9853 - val_loss: 0.0236 - val_accuracy: 1.0000\n",
      "Epoch 49/150\n",
      "13/13 [==============================] - 0s 15ms/step - loss: 0.0538 - accuracy: 0.9829 - val_loss: 0.0238 - val_accuracy: 1.0000\n",
      "Epoch 50/150\n",
      "13/13 [==============================] - 0s 13ms/step - loss: 0.0569 - accuracy: 0.9853 - val_loss: 0.0239 - val_accuracy: 1.0000\n",
      "Epoch 51/150\n",
      "13/13 [==============================] - 0s 12ms/step - loss: 0.0603 - accuracy: 0.9804 - val_loss: 0.0244 - val_accuracy: 1.0000\n",
      "Epoch 52/150\n",
      "13/13 [==============================] - 0s 11ms/step - loss: 0.0594 - accuracy: 0.9853 - val_loss: 0.0245 - val_accuracy: 1.0000\n",
      "Epoch 53/150\n",
      "13/13 [==============================] - 0s 17ms/step - loss: 0.0534 - accuracy: 0.9878 - val_loss: 0.0239 - val_accuracy: 1.0000\n",
      "Epoch 54/150\n",
      "13/13 [==============================] - 0s 20ms/step - loss: 0.0554 - accuracy: 0.9853 - val_loss: 0.0234 - val_accuracy: 1.0000\n",
      "Epoch 55/150\n",
      "13/13 [==============================] - 0s 19ms/step - loss: 0.0530 - accuracy: 0.9829 - val_loss: 0.0228 - val_accuracy: 1.0000\n",
      "Epoch 56/150\n",
      "13/13 [==============================] - 0s 18ms/step - loss: 0.0439 - accuracy: 0.9927 - val_loss: 0.0225 - val_accuracy: 1.0000\n",
      "Epoch 57/150\n",
      "13/13 [==============================] - 0s 15ms/step - loss: 0.0495 - accuracy: 0.9878 - val_loss: 0.0227 - val_accuracy: 1.0000\n",
      "Epoch 58/150\n",
      "13/13 [==============================] - 0s 16ms/step - loss: 0.0558 - accuracy: 0.9804 - val_loss: 0.0220 - val_accuracy: 1.0000\n",
      "Epoch 59/150\n",
      "13/13 [==============================] - 0s 17ms/step - loss: 0.0469 - accuracy: 0.9853 - val_loss: 0.0214 - val_accuracy: 1.0000\n",
      "Epoch 60/150\n",
      "13/13 [==============================] - 0s 20ms/step - loss: 0.0494 - accuracy: 0.9878 - val_loss: 0.0220 - val_accuracy: 1.0000\n",
      "Epoch 61/150\n",
      "13/13 [==============================] - 0s 21ms/step - loss: 0.0466 - accuracy: 0.9878 - val_loss: 0.0221 - val_accuracy: 1.0000\n",
      "Epoch 62/150\n",
      "13/13 [==============================] - 0s 15ms/step - loss: 0.0471 - accuracy: 0.9878 - val_loss: 0.0225 - val_accuracy: 1.0000\n",
      "Epoch 63/150\n",
      "13/13 [==============================] - 0s 15ms/step - loss: 0.0459 - accuracy: 0.9878 - val_loss: 0.0225 - val_accuracy: 1.0000\n",
      "Epoch 64/150\n",
      "13/13 [==============================] - 0s 18ms/step - loss: 0.0507 - accuracy: 0.9829 - val_loss: 0.0228 - val_accuracy: 1.0000\n",
      "Epoch 65/150\n",
      "13/13 [==============================] - 0s 14ms/step - loss: 0.0425 - accuracy: 0.9878 - val_loss: 0.0233 - val_accuracy: 1.0000\n",
      "Epoch 66/150\n",
      "13/13 [==============================] - 0s 10ms/step - loss: 0.0409 - accuracy: 0.9878 - val_loss: 0.0237 - val_accuracy: 1.0000\n",
      "Epoch 67/150\n",
      "13/13 [==============================] - 0s 13ms/step - loss: 0.0479 - accuracy: 0.9878 - val_loss: 0.0237 - val_accuracy: 1.0000\n",
      "Epoch 68/150\n",
      "13/13 [==============================] - 0s 15ms/step - loss: 0.0521 - accuracy: 0.9853 - val_loss: 0.0237 - val_accuracy: 1.0000\n",
      "Epoch 69/150\n",
      "13/13 [==============================] - 0s 16ms/step - loss: 0.0457 - accuracy: 0.9853 - val_loss: 0.0238 - val_accuracy: 1.0000\n",
      "Epoch 70/150\n",
      "13/13 [==============================] - 0s 12ms/step - loss: 0.0363 - accuracy: 0.9927 - val_loss: 0.0233 - val_accuracy: 1.0000\n",
      "Epoch 71/150\n",
      "13/13 [==============================] - 0s 13ms/step - loss: 0.0408 - accuracy: 0.9902 - val_loss: 0.0233 - val_accuracy: 1.0000\n",
      "Epoch 72/150\n",
      "13/13 [==============================] - 0s 17ms/step - loss: 0.0483 - accuracy: 0.9853 - val_loss: 0.0234 - val_accuracy: 1.0000\n",
      "Epoch 73/150\n",
      "13/13 [==============================] - 0s 15ms/step - loss: 0.0372 - accuracy: 0.9878 - val_loss: 0.0236 - val_accuracy: 1.0000\n",
      "Epoch 74/150\n",
      "13/13 [==============================] - 0s 11ms/step - loss: 0.0399 - accuracy: 0.9878 - val_loss: 0.0233 - val_accuracy: 1.0000\n",
      "Epoch 75/150\n",
      "13/13 [==============================] - 0s 16ms/step - loss: 0.0411 - accuracy: 0.9902 - val_loss: 0.0233 - val_accuracy: 1.0000\n",
      "Epoch 76/150\n",
      "13/13 [==============================] - 0s 16ms/step - loss: 0.0434 - accuracy: 0.9829 - val_loss: 0.0242 - val_accuracy: 1.0000\n",
      "Epoch 77/150\n",
      "13/13 [==============================] - 0s 11ms/step - loss: 0.0396 - accuracy: 0.9878 - val_loss: 0.0255 - val_accuracy: 1.0000\n",
      "Epoch 78/150\n",
      "13/13 [==============================] - 0s 16ms/step - loss: 0.0406 - accuracy: 0.9927 - val_loss: 0.0258 - val_accuracy: 1.0000\n",
      "Epoch 79/150\n",
      "13/13 [==============================] - 0s 14ms/step - loss: 0.0402 - accuracy: 0.9878 - val_loss: 0.0257 - val_accuracy: 1.0000\n",
      "Epoch 80/150\n",
      "13/13 [==============================] - 0s 17ms/step - loss: 0.0374 - accuracy: 0.9902 - val_loss: 0.0243 - val_accuracy: 1.0000\n",
      "Epoch 81/150\n",
      "13/13 [==============================] - 0s 11ms/step - loss: 0.0461 - accuracy: 0.9853 - val_loss: 0.0232 - val_accuracy: 1.0000\n",
      "Epoch 82/150\n",
      "13/13 [==============================] - 0s 14ms/step - loss: 0.0367 - accuracy: 0.9878 - val_loss: 0.0241 - val_accuracy: 1.0000\n",
      "Epoch 83/150\n",
      "13/13 [==============================] - 0s 12ms/step - loss: 0.0354 - accuracy: 0.9878 - val_loss: 0.0240 - val_accuracy: 1.0000\n",
      "Epoch 84/150\n",
      "13/13 [==============================] - 0s 12ms/step - loss: 0.0378 - accuracy: 0.9951 - val_loss: 0.0231 - val_accuracy: 1.0000\n",
      "Epoch 85/150\n",
      "13/13 [==============================] - 0s 11ms/step - loss: 0.0361 - accuracy: 0.9853 - val_loss: 0.0245 - val_accuracy: 1.0000\n",
      "Epoch 86/150\n",
      "13/13 [==============================] - 0s 11ms/step - loss: 0.0336 - accuracy: 0.9878 - val_loss: 0.0247 - val_accuracy: 1.0000\n",
      "Epoch 87/150\n",
      "13/13 [==============================] - 0s 12ms/step - loss: 0.0322 - accuracy: 0.9878 - val_loss: 0.0268 - val_accuracy: 0.9903\n",
      "Epoch 88/150\n",
      "13/13 [==============================] - 0s 15ms/step - loss: 0.0358 - accuracy: 0.9902 - val_loss: 0.0274 - val_accuracy: 0.9903\n",
      "Epoch 89/150\n",
      "13/13 [==============================] - 0s 16ms/step - loss: 0.0321 - accuracy: 0.9853 - val_loss: 0.0283 - val_accuracy: 0.9806\n",
      "Epoch 90/150\n",
      "13/13 [==============================] - 0s 14ms/step - loss: 0.0352 - accuracy: 0.9878 - val_loss: 0.0295 - val_accuracy: 0.9903\n",
      "Epoch 91/150\n",
      "13/13 [==============================] - 0s 16ms/step - loss: 0.0367 - accuracy: 0.9878 - val_loss: 0.0291 - val_accuracy: 0.9903\n",
      "Epoch 92/150\n",
      "13/13 [==============================] - 0s 36ms/step - loss: 0.0349 - accuracy: 0.9878 - val_loss: 0.0281 - val_accuracy: 0.9903\n",
      "Epoch 93/150\n",
      "13/13 [==============================] - 0s 12ms/step - loss: 0.0322 - accuracy: 0.9853 - val_loss: 0.0264 - val_accuracy: 0.9903\n",
      "Epoch 94/150\n",
      "13/13 [==============================] - 0s 16ms/step - loss: 0.0317 - accuracy: 0.9853 - val_loss: 0.0259 - val_accuracy: 0.9903\n",
      "Epoch 95/150\n",
      "13/13 [==============================] - 0s 15ms/step - loss: 0.0253 - accuracy: 0.9927 - val_loss: 0.0265 - val_accuracy: 0.9903\n",
      "Epoch 96/150\n",
      "13/13 [==============================] - 0s 12ms/step - loss: 0.0289 - accuracy: 0.9878 - val_loss: 0.0286 - val_accuracy: 0.9903\n",
      "Epoch 97/150\n",
      "13/13 [==============================] - 0s 12ms/step - loss: 0.0300 - accuracy: 0.9853 - val_loss: 0.0273 - val_accuracy: 0.9903\n",
      "Epoch 98/150\n",
      "13/13 [==============================] - 0s 14ms/step - loss: 0.0301 - accuracy: 0.9902 - val_loss: 0.0269 - val_accuracy: 0.9903\n",
      "Epoch 99/150\n",
      "13/13 [==============================] - 0s 15ms/step - loss: 0.0366 - accuracy: 0.9829 - val_loss: 0.0301 - val_accuracy: 0.9806\n",
      "Epoch 100/150\n",
      "13/13 [==============================] - 0s 13ms/step - loss: 0.0280 - accuracy: 0.9902 - val_loss: 0.0323 - val_accuracy: 0.9806\n",
      "Epoch 101/150\n",
      "13/13 [==============================] - 0s 20ms/step - loss: 0.0282 - accuracy: 0.9902 - val_loss: 0.0312 - val_accuracy: 0.9806\n",
      "Epoch 102/150\n",
      "13/13 [==============================] - 0s 15ms/step - loss: 0.0260 - accuracy: 0.9853 - val_loss: 0.0259 - val_accuracy: 0.9903\n",
      "Epoch 103/150\n",
      "13/13 [==============================] - 0s 17ms/step - loss: 0.0287 - accuracy: 0.9902 - val_loss: 0.0256 - val_accuracy: 0.9903\n",
      "Epoch 104/150\n",
      "13/13 [==============================] - 0s 13ms/step - loss: 0.0488 - accuracy: 0.9853 - val_loss: 0.0245 - val_accuracy: 0.9903\n",
      "Epoch 105/150\n",
      "13/13 [==============================] - 0s 12ms/step - loss: 0.0287 - accuracy: 0.9829 - val_loss: 0.0246 - val_accuracy: 0.9903\n",
      "Epoch 106/150\n",
      "13/13 [==============================] - 0s 15ms/step - loss: 0.0256 - accuracy: 0.9927 - val_loss: 0.0245 - val_accuracy: 0.9903\n",
      "Epoch 107/150\n",
      "13/13 [==============================] - 0s 15ms/step - loss: 0.0272 - accuracy: 0.9878 - val_loss: 0.0273 - val_accuracy: 0.9903\n",
      "Epoch 108/150\n",
      "13/13 [==============================] - 0s 12ms/step - loss: 0.0255 - accuracy: 0.9878 - val_loss: 0.0317 - val_accuracy: 0.9806\n",
      "Epoch 109/150\n",
      "13/13 [==============================] - 0s 16ms/step - loss: 0.0431 - accuracy: 0.9902 - val_loss: 0.0337 - val_accuracy: 0.9806\n",
      "Epoch 110/150\n",
      "13/13 [==============================] - 0s 19ms/step - loss: 0.0267 - accuracy: 0.9902 - val_loss: 0.0346 - val_accuracy: 0.9806\n",
      "Epoch 111/150\n",
      "13/13 [==============================] - 0s 14ms/step - loss: 0.0276 - accuracy: 0.9902 - val_loss: 0.0347 - val_accuracy: 0.9806\n",
      "Epoch 112/150\n",
      "13/13 [==============================] - 0s 14ms/step - loss: 0.0311 - accuracy: 0.9853 - val_loss: 0.0323 - val_accuracy: 0.9806\n",
      "Epoch 113/150\n",
      "13/13 [==============================] - 0s 15ms/step - loss: 0.0253 - accuracy: 0.9902 - val_loss: 0.0301 - val_accuracy: 0.9806\n",
      "Epoch 114/150\n",
      "13/13 [==============================] - 0s 17ms/step - loss: 0.0275 - accuracy: 0.9927 - val_loss: 0.0303 - val_accuracy: 0.9806\n",
      "Epoch 115/150\n",
      "13/13 [==============================] - 0s 19ms/step - loss: 0.0196 - accuracy: 0.9902 - val_loss: 0.0298 - val_accuracy: 0.9903\n",
      "Epoch 116/150\n",
      "13/13 [==============================] - 0s 14ms/step - loss: 0.0218 - accuracy: 0.9951 - val_loss: 0.0305 - val_accuracy: 0.9806\n",
      "Epoch 117/150\n",
      "13/13 [==============================] - 0s 13ms/step - loss: 0.0273 - accuracy: 0.9878 - val_loss: 0.0297 - val_accuracy: 0.9806\n",
      "Epoch 118/150\n",
      "13/13 [==============================] - 0s 15ms/step - loss: 0.0270 - accuracy: 0.9878 - val_loss: 0.0297 - val_accuracy: 0.9903\n",
      "Epoch 119/150\n",
      "13/13 [==============================] - 0s 14ms/step - loss: 0.0245 - accuracy: 0.9927 - val_loss: 0.0268 - val_accuracy: 0.9903\n",
      "Epoch 120/150\n",
      "13/13 [==============================] - 0s 21ms/step - loss: 0.0224 - accuracy: 0.9927 - val_loss: 0.0257 - val_accuracy: 0.9903\n",
      "Epoch 121/150\n",
      "13/13 [==============================] - 0s 14ms/step - loss: 0.0204 - accuracy: 0.9927 - val_loss: 0.0261 - val_accuracy: 0.9903\n",
      "Epoch 122/150\n",
      "13/13 [==============================] - 0s 17ms/step - loss: 0.0240 - accuracy: 0.9878 - val_loss: 0.0264 - val_accuracy: 0.9903\n",
      "Epoch 123/150\n",
      "13/13 [==============================] - 0s 14ms/step - loss: 0.0195 - accuracy: 0.9927 - val_loss: 0.0276 - val_accuracy: 0.9903\n",
      "Epoch 124/150\n",
      "13/13 [==============================] - 0s 15ms/step - loss: 0.0195 - accuracy: 0.9927 - val_loss: 0.0278 - val_accuracy: 0.9903\n",
      "Epoch 125/150\n",
      "13/13 [==============================] - 0s 17ms/step - loss: 0.0184 - accuracy: 0.9976 - val_loss: 0.0300 - val_accuracy: 0.9903\n",
      "Epoch 126/150\n",
      "13/13 [==============================] - 0s 17ms/step - loss: 0.0198 - accuracy: 0.9927 - val_loss: 0.0307 - val_accuracy: 0.9903\n",
      "Epoch 127/150\n",
      "13/13 [==============================] - 0s 16ms/step - loss: 0.0245 - accuracy: 0.9927 - val_loss: 0.0301 - val_accuracy: 0.9806\n",
      "Epoch 128/150\n",
      "13/13 [==============================] - 0s 16ms/step - loss: 0.0204 - accuracy: 0.9976 - val_loss: 0.0306 - val_accuracy: 0.9903\n",
      "Epoch 129/150\n",
      "13/13 [==============================] - 0s 16ms/step - loss: 0.0155 - accuracy: 0.9951 - val_loss: 0.0312 - val_accuracy: 0.9806\n",
      "Epoch 130/150\n",
      "13/13 [==============================] - 0s 19ms/step - loss: 0.0189 - accuracy: 0.9951 - val_loss: 0.0331 - val_accuracy: 0.9806\n",
      "Epoch 131/150\n",
      "13/13 [==============================] - 0s 14ms/step - loss: 0.0219 - accuracy: 0.9902 - val_loss: 0.0335 - val_accuracy: 0.9903\n",
      "Epoch 132/150\n",
      "13/13 [==============================] - 0s 13ms/step - loss: 0.0247 - accuracy: 0.9902 - val_loss: 0.0340 - val_accuracy: 0.9903\n",
      "Epoch 133/150\n",
      "13/13 [==============================] - 0s 14ms/step - loss: 0.0193 - accuracy: 0.9951 - val_loss: 0.0360 - val_accuracy: 0.9806\n",
      "Epoch 134/150\n",
      "13/13 [==============================] - 0s 19ms/step - loss: 0.0293 - accuracy: 0.9902 - val_loss: 0.0373 - val_accuracy: 0.9806\n",
      "Epoch 135/150\n",
      "13/13 [==============================] - 0s 17ms/step - loss: 0.0172 - accuracy: 0.9902 - val_loss: 0.0388 - val_accuracy: 0.9806\n",
      "Epoch 136/150\n",
      "13/13 [==============================] - 0s 19ms/step - loss: 0.0220 - accuracy: 0.9927 - val_loss: 0.0403 - val_accuracy: 0.9806\n",
      "Epoch 137/150\n",
      "13/13 [==============================] - 0s 18ms/step - loss: 0.0311 - accuracy: 0.9853 - val_loss: 0.0382 - val_accuracy: 0.9806\n",
      "Epoch 138/150\n",
      "13/13 [==============================] - 0s 19ms/step - loss: 0.0199 - accuracy: 0.9902 - val_loss: 0.0393 - val_accuracy: 0.9806\n",
      "Epoch 139/150\n",
      "13/13 [==============================] - ETA: 0s - loss: 0.0165 - accuracy: 0.99 - 0s 14ms/step - loss: 0.0152 - accuracy: 0.9951 - val_loss: 0.0422 - val_accuracy: 0.9806\n",
      "Epoch 140/150\n",
      "13/13 [==============================] - 0s 15ms/step - loss: 0.0147 - accuracy: 0.9951 - val_loss: 0.0416 - val_accuracy: 0.9806\n",
      "Epoch 141/150\n",
      "13/13 [==============================] - 0s 15ms/step - loss: 0.0160 - accuracy: 0.9951 - val_loss: 0.0405 - val_accuracy: 0.9806\n",
      "Epoch 142/150\n",
      "13/13 [==============================] - 0s 16ms/step - loss: 0.0177 - accuracy: 0.9927 - val_loss: 0.0393 - val_accuracy: 0.9806\n",
      "Epoch 143/150\n",
      "13/13 [==============================] - 0s 15ms/step - loss: 0.0182 - accuracy: 0.9927 - val_loss: 0.0372 - val_accuracy: 0.9903\n",
      "Epoch 144/150\n",
      "13/13 [==============================] - 0s 15ms/step - loss: 0.0229 - accuracy: 0.9927 - val_loss: 0.0370 - val_accuracy: 0.9903\n",
      "Epoch 145/150\n",
      "13/13 [==============================] - 0s 15ms/step - loss: 0.0152 - accuracy: 0.9951 - val_loss: 0.0362 - val_accuracy: 0.9903\n",
      "Epoch 146/150\n",
      "13/13 [==============================] - 0s 17ms/step - loss: 0.0166 - accuracy: 0.9927 - val_loss: 0.0370 - val_accuracy: 0.9903\n",
      "Epoch 147/150\n",
      "13/13 [==============================] - 0s 16ms/step - loss: 0.0162 - accuracy: 0.9927 - val_loss: 0.0363 - val_accuracy: 0.9903\n",
      "Epoch 148/150\n",
      "13/13 [==============================] - 0s 17ms/step - loss: 0.0135 - accuracy: 0.9951 - val_loss: 0.0333 - val_accuracy: 0.9903\n",
      "Epoch 149/150\n",
      "13/13 [==============================] - 0s 12ms/step - loss: 0.0114 - accuracy: 0.9976 - val_loss: 0.0310 - val_accuracy: 0.9903\n",
      "Epoch 150/150\n",
      "13/13 [==============================] - 0s 11ms/step - loss: 0.0145 - accuracy: 1.0000 - val_loss: 0.0336 - val_accuracy: 0.9903\n"
     ]
    }
   ],
   "source": [
    "history = classifier.fit(x_train, y_train, batch_size=32, epochs=150,validation_split = 0.2)"
   ]
  },
  {
   "cell_type": "markdown",
   "metadata": {},
   "source": [
    "# 8. Comprobación con datos de test"
   ]
  },
  {
   "cell_type": "code",
   "execution_count": 83,
   "metadata": {},
   "outputs": [
    {
     "data": {
      "text/plain": [
       "array([[1.00000000e+00],\n",
       "       [3.62476110e-02],\n",
       "       [1.07222135e-04],\n",
       "       [2.32014060e-03],\n",
       "       [2.83606983e-06],\n",
       "       [1.00002326e-05],\n",
       "       [3.44186742e-06],\n",
       "       [8.24787458e-06],\n",
       "       [2.39632641e-07],\n",
       "       [1.99187533e-09],\n",
       "       [1.32398486e-01],\n",
       "       [7.58349895e-03],\n",
       "       [9.25724422e-08],\n",
       "       [7.29941905e-01],\n",
       "       [7.58277178e-01],\n",
       "       [1.00000000e+00],\n",
       "       [6.92285994e-07],\n",
       "       [1.00000000e+00],\n",
       "       [1.00000000e+00],\n",
       "       [1.00000000e+00],\n",
       "       [1.00000000e+00],\n",
       "       [9.99998450e-01],\n",
       "       [3.09824944e-04],\n",
       "       [4.06448016e-05],\n",
       "       [1.00000000e+00],\n",
       "       [3.60711674e-05],\n",
       "       [8.87985038e-07],\n",
       "       [9.99860466e-01],\n",
       "       [4.96184366e-05],\n",
       "       [1.00000000e+00],\n",
       "       [1.11613754e-05],\n",
       "       [1.00000000e+00],\n",
       "       [1.36405528e-02],\n",
       "       [1.00000000e+00],\n",
       "       [7.30454974e-10],\n",
       "       [1.00000000e+00],\n",
       "       [4.04188037e-03],\n",
       "       [1.00000000e+00],\n",
       "       [4.22507524e-04],\n",
       "       [1.00000000e+00],\n",
       "       [9.99293327e-01],\n",
       "       [4.71313967e-07],\n",
       "       [9.99494910e-01],\n",
       "       [5.18657032e-07],\n",
       "       [5.52684069e-04],\n",
       "       [1.00000000e+00],\n",
       "       [2.06620263e-10],\n",
       "       [9.71201062e-03],\n",
       "       [4.81091320e-07],\n",
       "       [1.00000000e+00],\n",
       "       [1.00000000e+00],\n",
       "       [9.99978065e-01],\n",
       "       [1.00000000e+00],\n",
       "       [1.51314262e-05],\n",
       "       [1.27396906e-05],\n",
       "       [4.97284600e-06],\n",
       "       [7.70512816e-06]], dtype=float32)"
      ]
     },
     "execution_count": 83,
     "metadata": {},
     "output_type": "execute_result"
    }
   ],
   "source": [
    "# Predicting the Test set results\n",
    "y_pred = classifier.predict(x_test)\n",
    "#y_pred = (y_pred > 0.5)\n",
    "y_pred #Note que los valores de salida son continuos entre 0 y 1 debido a la función de activación: sigmoide\n",
    "# de la capa de salida que se indico en la creación del modelo."
   ]
  },
  {
   "cell_type": "code",
   "execution_count": 84,
   "metadata": {},
   "outputs": [
    {
     "data": {
      "text/plain": [
       "array([[1.],\n",
       "       [0.],\n",
       "       [0.],\n",
       "       [0.],\n",
       "       [0.],\n",
       "       [0.],\n",
       "       [0.],\n",
       "       [0.],\n",
       "       [0.],\n",
       "       [0.],\n",
       "       [0.],\n",
       "       [0.],\n",
       "       [0.],\n",
       "       [1.],\n",
       "       [1.],\n",
       "       [1.],\n",
       "       [0.],\n",
       "       [1.],\n",
       "       [1.],\n",
       "       [1.],\n",
       "       [1.],\n",
       "       [1.],\n",
       "       [0.],\n",
       "       [0.],\n",
       "       [1.],\n",
       "       [0.],\n",
       "       [0.],\n",
       "       [1.],\n",
       "       [0.],\n",
       "       [1.],\n",
       "       [0.],\n",
       "       [1.],\n",
       "       [0.],\n",
       "       [1.],\n",
       "       [0.],\n",
       "       [1.],\n",
       "       [0.],\n",
       "       [1.],\n",
       "       [0.],\n",
       "       [1.],\n",
       "       [1.],\n",
       "       [0.],\n",
       "       [1.],\n",
       "       [0.],\n",
       "       [0.],\n",
       "       [1.],\n",
       "       [0.],\n",
       "       [0.],\n",
       "       [0.],\n",
       "       [1.],\n",
       "       [1.],\n",
       "       [1.],\n",
       "       [1.],\n",
       "       [0.],\n",
       "       [0.],\n",
       "       [0.],\n",
       "       [0.]], dtype=float32)"
      ]
     },
     "execution_count": 84,
     "metadata": {},
     "output_type": "execute_result"
    }
   ],
   "source": [
    "y_pred[y_pred > 0.5] = 1\n",
    "y_pred[y_pred <=0.5] = 0\n",
    "y_pred # Se realiza una aproximación de los datos continuos a unicamente dos estados 1 ó 0 (cancer o noCancer)"
   ]
  },
  {
   "cell_type": "markdown",
   "metadata": {},
   "source": [
    "# 9. Matriz de confusión"
   ]
  },
  {
   "cell_type": "code",
   "execution_count": 85,
   "metadata": {},
   "outputs": [],
   "source": [
    "cm = confusion_matrix(y_test, y_pred)"
   ]
  },
  {
   "cell_type": "code",
   "execution_count": 86,
   "metadata": {},
   "outputs": [
    {
     "name": "stdout",
     "output_type": "stream",
     "text": [
      "Our accuracy is 96.49122807017544%\n"
     ]
    }
   ],
   "source": [
    "print(\"Our accuracy is {}%\".format(((cm[0][0] + cm[1][1])/y_test.shape[0])*100))"
   ]
  },
  {
   "cell_type": "code",
   "execution_count": 87,
   "metadata": {},
   "outputs": [
    {
     "data": {
      "image/png": "[encoded data removed]",
      "text/plain": [
       "<Figure size 432x288 with 2 Axes>"
      ]
     },
     "metadata": {
      "needs_background": "light"
     },
     "output_type": "display_data"
    }
   ],
   "source": [
    "sns.heatmap(cm,annot=True)\n",
    "plt.savefig('h.png')"
   ]
  },
  {
   "cell_type": "markdown",
   "metadata": {},
   "source": [
    "En el eje horizontal estan los datos que la red ha predecido, en el vertical los datos reales que han sido\n",
    "etiquetadas. Se ve que el modelo clasifico 3 casos como cancer cuando no lo era cierto, es decir, tuvo 3 falsos positivos."
   ]
  },
  {
   "cell_type": "markdown",
   "metadata": {},
   "source": [
    "# 10. Evaluación del modelo"
   ]
  },
  {
   "cell_type": "code",
   "execution_count": 73,
   "metadata": {},
   "outputs": [],
   "source": [
    "def plot_metric(history, metric):\n",
    "    train_metrics = history.history[metric]\n",
    "    val_metrics = history.history['val_'+metric]\n",
    "    epochs = range(1, len(train_metrics) + 1)\n",
    "    plt.plot(epochs, train_metrics, 'bo--')\n",
    "    plt.plot(epochs, val_metrics, 'ro-')\n",
    "    plt.title('Entrenamiento y validación '+ metric)\n",
    "    plt.xlabel(\"Epochs\")\n",
    "    plt.ylabel(metric)\n",
    "    plt.legend([\"train_\"+metric, 'val_'+metric])\n",
    "    plt.show()"
   ]
  },
  {
   "cell_type": "code",
   "execution_count": 74,
   "metadata": {},
   "outputs": [
    {
     "data": {
      "image/png": "[encoded data removed]",
      "text/plain": [
       "<Figure size 432x288 with 1 Axes>"
      ]
     },
     "metadata": {
      "needs_background": "light"
     },
     "output_type": "display_data"
    }
   ],
   "source": [
    "plot_metric(history, 'loss')"
   ]
  },
  {
   "cell_type": "code",
   "execution_count": 75,
   "metadata": {},
   "outputs": [
    {
     "data": {
      "image/png": "[encoded data removed]",
      "text/plain": [
       "<Figure size 432x288 with 1 Axes>"
      ]
     },
     "metadata": {
      "needs_background": "light"
     },
     "output_type": "display_data"
    }
   ],
   "source": [
    "plot_metric(history, 'accuracy')"
   ]
  },
  {
   "cell_type": "markdown",
   "metadata": {},
   "source": [
    "# 11. Mejoramiento del modelo:\n",
    "De la gráfica de exactitud se puede llegar a pensar que existe un sobre ajuste de los datos, ya que en validación\n",
    "se esta dando el mismo resultado a partir de aproximadamente 40 epocas. Para ello se procede a aumentar el dropout de 0.1 a 0.4 de la primer capa densa del modelo."
   ]
  },
  {
   "cell_type": "code",
   "execution_count": 88,
   "metadata": {},
   "outputs": [],
   "source": [
    "classifier = Sequential()\n",
    "## Adiciona capas una por una\n",
    "classifier.add(Dense(units=16, activation='relu', input_shape=(30,))) #El input_shape tiene 30 filas que concide con los features (columnas de los datos)\n",
    "# Adding dropout to prevent overfitting (regularización)\n",
    "classifier.add(Dropout(0.4)) # 30% out in each epoc\n",
    "classifier.add(Dense(units=16, activation='relu'))\n",
    "# Adding dropout to prevent overfitting (regularización)\n",
    "classifier.add(Dropout(0.1))\n",
    "classifier.add(Dense(units=1, activation='sigmoid')) #Solo tiene una neurona de salida, ya que con esto es suficiente para realizar la clasificación de este problema."
   ]
  },
  {
   "cell_type": "code",
   "execution_count": 89,
   "metadata": {},
   "outputs": [],
   "source": [
    "classifier.compile(optimizer='adam', loss='binary_crossentropy', metrics=['accuracy'])"
   ]
  },
  {
   "cell_type": "code",
   "execution_count": 90,
   "metadata": {},
   "outputs": [
    {
     "name": "stdout",
     "output_type": "stream",
     "text": [
      "Model: \"sequential_5\"\n",
      "_________________________________________________________________\n",
      "Layer (type)                 Output Shape              Param #   \n",
      "=================================================================\n",
      "dense_15 (Dense)             (None, 16)                496       \n",
      "_________________________________________________________________\n",
      "dropout_10 (Dropout)         (None, 16)                0         \n",
      "_________________________________________________________________\n",
      "dense_16 (Dense)             (None, 16)                272       \n",
      "_________________________________________________________________\n",
      "dropout_11 (Dropout)         (None, 16)                0         \n",
      "_________________________________________________________________\n",
      "dense_17 (Dense)             (None, 1)                 17        \n",
      "=================================================================\n",
      "Total params: 785\n",
      "Trainable params: 785\n",
      "Non-trainable params: 0\n",
      "_________________________________________________________________\n",
      "Failed to import pydot. You must install pydot and graphviz for `pydotprint` to work.\n"
     ]
    }
   ],
   "source": [
    "classifier.summary()\n",
    "plot_model(classifier, to_file='../Imagenes/cancer_seno.png', \n",
    "           show_shapes=True)"
   ]
  },
  {
   "cell_type": "code",
   "execution_count": 91,
   "metadata": {},
   "outputs": [
    {
     "name": "stdout",
     "output_type": "stream",
     "text": [
      "Epoch 1/150\n",
      "13/13 [==============================] - 0s 35ms/step - loss: 0.7655 - accuracy: 0.4817 - val_loss: 0.6469 - val_accuracy: 0.6117\n",
      "Epoch 2/150\n",
      "13/13 [==============================] - 0s 14ms/step - loss: 0.6160 - accuracy: 0.6846 - val_loss: 0.5298 - val_accuracy: 0.8641\n",
      "Epoch 3/150\n",
      "13/13 [==============================] - 0s 10ms/step - loss: 0.5398 - accuracy: 0.7506 - val_loss: 0.4359 - val_accuracy: 0.9320\n",
      "Epoch 4/150\n",
      "13/13 [==============================] - 0s 13ms/step - loss: 0.4547 - accuracy: 0.8215 - val_loss: 0.3618 - val_accuracy: 0.9320\n",
      "Epoch 5/150\n",
      "13/13 [==============================] - 0s 15ms/step - loss: 0.4218 - accuracy: 0.8460 - val_loss: 0.3003 - val_accuracy: 0.9515\n",
      "Epoch 6/150\n",
      "13/13 [==============================] - 0s 15ms/step - loss: 0.3537 - accuracy: 0.8655 - val_loss: 0.2491 - val_accuracy: 0.9515\n",
      "Epoch 7/150\n",
      "13/13 [==============================] - 0s 22ms/step - loss: 0.3063 - accuracy: 0.9120 - val_loss: 0.2096 - val_accuracy: 0.9612\n",
      "Epoch 8/150\n",
      "13/13 [==============================] - 0s 21ms/step - loss: 0.2854 - accuracy: 0.8998 - val_loss: 0.1799 - val_accuracy: 0.9709\n",
      "Epoch 9/150\n",
      "13/13 [==============================] - 0s 14ms/step - loss: 0.2431 - accuracy: 0.9267 - val_loss: 0.1581 - val_accuracy: 0.9709\n",
      "Epoch 10/150\n",
      "13/13 [==============================] - 0s 16ms/step - loss: 0.2313 - accuracy: 0.9242 - val_loss: 0.1416 - val_accuracy: 0.9709\n",
      "Epoch 11/150\n",
      "13/13 [==============================] - 0s 16ms/step - loss: 0.2201 - accuracy: 0.9291 - val_loss: 0.1275 - val_accuracy: 0.9806\n",
      "Epoch 12/150\n",
      "13/13 [==============================] - 0s 15ms/step - loss: 0.1909 - accuracy: 0.9364 - val_loss: 0.1157 - val_accuracy: 0.9806\n",
      "Epoch 13/150\n",
      "13/13 [==============================] - 0s 16ms/step - loss: 0.1836 - accuracy: 0.9364 - val_loss: 0.1051 - val_accuracy: 0.9903\n",
      "Epoch 14/150\n",
      "13/13 [==============================] - 0s 16ms/step - loss: 0.1817 - accuracy: 0.9462 - val_loss: 0.0975 - val_accuracy: 0.9903\n",
      "Epoch 15/150\n",
      "13/13 [==============================] - 0s 16ms/step - loss: 0.1574 - accuracy: 0.9535 - val_loss: 0.0914 - val_accuracy: 0.9903\n",
      "Epoch 16/150\n",
      "13/13 [==============================] - 0s 19ms/step - loss: 0.1588 - accuracy: 0.9511 - val_loss: 0.0857 - val_accuracy: 0.9903\n",
      "Epoch 17/150\n",
      "13/13 [==============================] - 0s 18ms/step - loss: 0.1639 - accuracy: 0.9413 - val_loss: 0.0821 - val_accuracy: 0.9903\n",
      "Epoch 18/150\n",
      "13/13 [==============================] - 0s 15ms/step - loss: 0.1660 - accuracy: 0.9511 - val_loss: 0.0789 - val_accuracy: 0.9903\n",
      "Epoch 19/150\n",
      "13/13 [==============================] - 0s 13ms/step - loss: 0.1618 - accuracy: 0.9511 - val_loss: 0.0757 - val_accuracy: 0.9903\n",
      "Epoch 20/150\n",
      "13/13 [==============================] - 0s 11ms/step - loss: 0.1412 - accuracy: 0.9438 - val_loss: 0.0727 - val_accuracy: 0.9903\n",
      "Epoch 21/150\n",
      "13/13 [==============================] - 0s 11ms/step - loss: 0.1356 - accuracy: 0.9584 - val_loss: 0.0704 - val_accuracy: 0.9903\n",
      "Epoch 22/150\n",
      "13/13 [==============================] - 0s 15ms/step - loss: 0.1340 - accuracy: 0.9511 - val_loss: 0.0678 - val_accuracy: 0.9903\n",
      "Epoch 23/150\n",
      "13/13 [==============================] - 0s 22ms/step - loss: 0.1283 - accuracy: 0.9535 - val_loss: 0.0657 - val_accuracy: 0.9903\n",
      "Epoch 24/150\n",
      "13/13 [==============================] - 0s 15ms/step - loss: 0.1172 - accuracy: 0.9633 - val_loss: 0.0628 - val_accuracy: 0.9903\n",
      "Epoch 25/150\n",
      "13/13 [==============================] - 0s 16ms/step - loss: 0.1154 - accuracy: 0.9707 - val_loss: 0.0608 - val_accuracy: 0.9903\n",
      "Epoch 26/150\n",
      "13/13 [==============================] - 0s 14ms/step - loss: 0.1271 - accuracy: 0.9584 - val_loss: 0.0579 - val_accuracy: 0.9903\n",
      "Epoch 27/150\n",
      "13/13 [==============================] - 0s 14ms/step - loss: 0.1172 - accuracy: 0.9609 - val_loss: 0.0556 - val_accuracy: 0.9903\n",
      "Epoch 28/150\n",
      "13/13 [==============================] - 0s 15ms/step - loss: 0.1061 - accuracy: 0.9682 - val_loss: 0.0544 - val_accuracy: 0.9903\n",
      "Epoch 29/150\n",
      "13/13 [==============================] - 0s 12ms/step - loss: 0.1353 - accuracy: 0.9438 - val_loss: 0.0533 - val_accuracy: 0.9903\n",
      "Epoch 30/150\n",
      "13/13 [==============================] - 0s 14ms/step - loss: 0.1059 - accuracy: 0.9609 - val_loss: 0.0516 - val_accuracy: 0.9903\n",
      "Epoch 31/150\n",
      "13/13 [==============================] - 0s 11ms/step - loss: 0.1071 - accuracy: 0.9658 - val_loss: 0.0500 - val_accuracy: 0.9903\n",
      "Epoch 32/150\n",
      "13/13 [==============================] - 0s 17ms/step - loss: 0.0879 - accuracy: 0.9780 - val_loss: 0.0489 - val_accuracy: 0.9903\n",
      "Epoch 33/150\n",
      "13/13 [==============================] - 0s 15ms/step - loss: 0.1016 - accuracy: 0.9658 - val_loss: 0.0471 - val_accuracy: 0.9903\n",
      "Epoch 34/150\n",
      "13/13 [==============================] - 0s 14ms/step - loss: 0.1065 - accuracy: 0.9682 - val_loss: 0.0469 - val_accuracy: 0.9903\n",
      "Epoch 35/150\n",
      "13/13 [==============================] - 0s 15ms/step - loss: 0.1029 - accuracy: 0.9682 - val_loss: 0.0459 - val_accuracy: 0.9903\n",
      "Epoch 36/150\n",
      "13/13 [==============================] - 0s 11ms/step - loss: 0.1111 - accuracy: 0.9731 - val_loss: 0.0453 - val_accuracy: 0.9903\n",
      "Epoch 37/150\n",
      "13/13 [==============================] - 0s 18ms/step - loss: 0.0884 - accuracy: 0.9731 - val_loss: 0.0443 - val_accuracy: 0.9903\n",
      "Epoch 38/150\n",
      "13/13 [==============================] - 0s 15ms/step - loss: 0.0886 - accuracy: 0.9707 - val_loss: 0.0428 - val_accuracy: 0.9903\n",
      "Epoch 39/150\n",
      "13/13 [==============================] - 0s 16ms/step - loss: 0.1074 - accuracy: 0.9731 - val_loss: 0.0419 - val_accuracy: 0.9903\n",
      "Epoch 40/150\n",
      "13/13 [==============================] - 0s 15ms/step - loss: 0.0842 - accuracy: 0.9780 - val_loss: 0.0413 - val_accuracy: 0.9903\n",
      "Epoch 41/150\n",
      "13/13 [==============================] - 0s 15ms/step - loss: 0.0927 - accuracy: 0.9707 - val_loss: 0.0409 - val_accuracy: 0.9903\n",
      "Epoch 42/150\n",
      "13/13 [==============================] - 0s 19ms/step - loss: 0.0879 - accuracy: 0.9731 - val_loss: 0.0402 - val_accuracy: 0.9903\n",
      "Epoch 43/150\n",
      "13/13 [==============================] - 0s 16ms/step - loss: 0.0876 - accuracy: 0.9658 - val_loss: 0.0405 - val_accuracy: 0.9903\n",
      "Epoch 44/150\n",
      "13/13 [==============================] - 0s 23ms/step - loss: 0.0909 - accuracy: 0.9682 - val_loss: 0.0395 - val_accuracy: 0.9903\n",
      "Epoch 45/150\n",
      "13/13 [==============================] - 0s 17ms/step - loss: 0.1074 - accuracy: 0.9609 - val_loss: 0.0381 - val_accuracy: 0.9903\n",
      "Epoch 46/150\n",
      "13/13 [==============================] - 0s 16ms/step - loss: 0.0897 - accuracy: 0.9707 - val_loss: 0.0384 - val_accuracy: 0.9903\n",
      "Epoch 47/150\n",
      "13/13 [==============================] - 0s 15ms/step - loss: 0.0846 - accuracy: 0.9804 - val_loss: 0.0383 - val_accuracy: 0.9903\n",
      "Epoch 48/150\n",
      "13/13 [==============================] - 0s 21ms/step - loss: 0.0876 - accuracy: 0.9780 - val_loss: 0.0369 - val_accuracy: 0.9903\n",
      "Epoch 49/150\n",
      "13/13 [==============================] - 0s 17ms/step - loss: 0.0872 - accuracy: 0.9707 - val_loss: 0.0357 - val_accuracy: 0.9903\n",
      "Epoch 50/150\n",
      "13/13 [==============================] - 0s 17ms/step - loss: 0.0709 - accuracy: 0.9878 - val_loss: 0.0347 - val_accuracy: 0.9903\n",
      "Epoch 51/150\n",
      "13/13 [==============================] - 0s 16ms/step - loss: 0.0797 - accuracy: 0.9756 - val_loss: 0.0343 - val_accuracy: 0.9903\n",
      "Epoch 52/150\n",
      "13/13 [==============================] - 0s 15ms/step - loss: 0.0753 - accuracy: 0.9731 - val_loss: 0.0336 - val_accuracy: 0.9903\n",
      "Epoch 53/150\n",
      "13/13 [==============================] - 0s 17ms/step - loss: 0.0895 - accuracy: 0.9756 - val_loss: 0.0342 - val_accuracy: 0.9903\n",
      "Epoch 54/150\n",
      "13/13 [==============================] - 0s 19ms/step - loss: 0.0883 - accuracy: 0.9780 - val_loss: 0.0339 - val_accuracy: 0.9903\n",
      "Epoch 55/150\n",
      "13/13 [==============================] - 0s 16ms/step - loss: 0.0849 - accuracy: 0.9756 - val_loss: 0.0339 - val_accuracy: 0.9903\n",
      "Epoch 56/150\n",
      "13/13 [==============================] - 0s 15ms/step - loss: 0.1015 - accuracy: 0.9658 - val_loss: 0.0333 - val_accuracy: 0.9903\n",
      "Epoch 57/150\n",
      "13/13 [==============================] - 0s 12ms/step - loss: 0.0611 - accuracy: 0.9804 - val_loss: 0.0323 - val_accuracy: 0.9903\n",
      "Epoch 58/150\n",
      "13/13 [==============================] - 0s 12ms/step - loss: 0.0768 - accuracy: 0.9853 - val_loss: 0.0317 - val_accuracy: 0.9903\n",
      "Epoch 59/150\n",
      "13/13 [==============================] - 0s 12ms/step - loss: 0.0818 - accuracy: 0.9780 - val_loss: 0.0315 - val_accuracy: 0.9903\n",
      "Epoch 60/150\n",
      "13/13 [==============================] - 0s 11ms/step - loss: 0.0723 - accuracy: 0.9829 - val_loss: 0.0309 - val_accuracy: 0.9903\n",
      "Epoch 61/150\n",
      "13/13 [==============================] - 0s 11ms/step - loss: 0.0871 - accuracy: 0.9756 - val_loss: 0.0306 - val_accuracy: 0.9903\n",
      "Epoch 62/150\n",
      "13/13 [==============================] - 0s 12ms/step - loss: 0.0813 - accuracy: 0.9707 - val_loss: 0.0303 - val_accuracy: 0.9903\n",
      "Epoch 63/150\n",
      "13/13 [==============================] - 0s 9ms/step - loss: 0.0763 - accuracy: 0.9756 - val_loss: 0.0291 - val_accuracy: 0.9903\n",
      "Epoch 64/150\n",
      "13/13 [==============================] - 0s 12ms/step - loss: 0.0684 - accuracy: 0.9780 - val_loss: 0.0289 - val_accuracy: 1.0000\n",
      "Epoch 65/150\n",
      "13/13 [==============================] - 0s 10ms/step - loss: 0.0638 - accuracy: 0.9804 - val_loss: 0.0281 - val_accuracy: 1.0000\n",
      "Epoch 66/150\n",
      "13/13 [==============================] - 0s 10ms/step - loss: 0.0670 - accuracy: 0.9756 - val_loss: 0.0272 - val_accuracy: 1.0000\n",
      "Epoch 67/150\n",
      "13/13 [==============================] - 0s 10ms/step - loss: 0.0715 - accuracy: 0.9804 - val_loss: 0.0264 - val_accuracy: 1.0000\n",
      "Epoch 68/150\n",
      "13/13 [==============================] - 0s 11ms/step - loss: 0.0897 - accuracy: 0.9707 - val_loss: 0.0264 - val_accuracy: 1.0000\n",
      "Epoch 69/150\n",
      "13/13 [==============================] - 0s 13ms/step - loss: 0.0760 - accuracy: 0.9731 - val_loss: 0.0258 - val_accuracy: 1.0000\n",
      "Epoch 70/150\n",
      "13/13 [==============================] - 0s 19ms/step - loss: 0.0570 - accuracy: 0.9853 - val_loss: 0.0258 - val_accuracy: 1.0000\n",
      "Epoch 71/150\n",
      "13/13 [==============================] - 0s 11ms/step - loss: 0.0636 - accuracy: 0.9804 - val_loss: 0.0254 - val_accuracy: 1.0000\n",
      "Epoch 72/150\n",
      "13/13 [==============================] - 0s 15ms/step - loss: 0.0783 - accuracy: 0.9731 - val_loss: 0.0260 - val_accuracy: 1.0000\n",
      "Epoch 73/150\n",
      "13/13 [==============================] - 0s 16ms/step - loss: 0.0664 - accuracy: 0.9731 - val_loss: 0.0254 - val_accuracy: 1.0000\n",
      "Epoch 74/150\n",
      "13/13 [==============================] - 0s 14ms/step - loss: 0.0652 - accuracy: 0.9780 - val_loss: 0.0248 - val_accuracy: 1.0000\n",
      "Epoch 75/150\n",
      "13/13 [==============================] - 0s 15ms/step - loss: 0.0767 - accuracy: 0.9804 - val_loss: 0.0246 - val_accuracy: 1.0000\n",
      "Epoch 76/150\n",
      "13/13 [==============================] - 0s 16ms/step - loss: 0.0681 - accuracy: 0.9804 - val_loss: 0.0244 - val_accuracy: 1.0000\n",
      "Epoch 77/150\n",
      "13/13 [==============================] - 0s 18ms/step - loss: 0.0778 - accuracy: 0.9756 - val_loss: 0.0242 - val_accuracy: 1.0000\n",
      "Epoch 78/150\n",
      "13/13 [==============================] - 0s 17ms/step - loss: 0.0702 - accuracy: 0.9756 - val_loss: 0.0253 - val_accuracy: 1.0000\n",
      "Epoch 79/150\n",
      "13/13 [==============================] - 0s 17ms/step - loss: 0.0775 - accuracy: 0.9829 - val_loss: 0.0264 - val_accuracy: 1.0000\n",
      "Epoch 80/150\n",
      "13/13 [==============================] - 0s 14ms/step - loss: 0.0564 - accuracy: 0.9853 - val_loss: 0.0257 - val_accuracy: 1.0000\n",
      "Epoch 81/150\n",
      "13/13 [==============================] - 0s 12ms/step - loss: 0.0658 - accuracy: 0.9853 - val_loss: 0.0254 - val_accuracy: 1.0000\n",
      "Epoch 82/150\n",
      "13/13 [==============================] - 0s 16ms/step - loss: 0.0649 - accuracy: 0.9804 - val_loss: 0.0250 - val_accuracy: 1.0000\n",
      "Epoch 83/150\n",
      "13/13 [==============================] - 0s 23ms/step - loss: 0.0574 - accuracy: 0.9804 - val_loss: 0.0236 - val_accuracy: 1.0000\n",
      "Epoch 84/150\n",
      "13/13 [==============================] - 0s 14ms/step - loss: 0.0608 - accuracy: 0.9829 - val_loss: 0.0222 - val_accuracy: 1.0000\n",
      "Epoch 85/150\n",
      "13/13 [==============================] - 0s 15ms/step - loss: 0.0756 - accuracy: 0.9756 - val_loss: 0.0219 - val_accuracy: 1.0000\n",
      "Epoch 86/150\n",
      "13/13 [==============================] - 0s 17ms/step - loss: 0.0565 - accuracy: 0.9853 - val_loss: 0.0224 - val_accuracy: 1.0000\n",
      "Epoch 87/150\n",
      "13/13 [==============================] - 0s 14ms/step - loss: 0.0608 - accuracy: 0.9780 - val_loss: 0.0212 - val_accuracy: 1.0000\n",
      "Epoch 88/150\n",
      "13/13 [==============================] - 0s 8ms/step - loss: 0.0604 - accuracy: 0.9829 - val_loss: 0.0199 - val_accuracy: 1.0000\n",
      "Epoch 89/150\n",
      "13/13 [==============================] - 0s 8ms/step - loss: 0.0591 - accuracy: 0.9829 - val_loss: 0.0193 - val_accuracy: 1.0000\n",
      "Epoch 90/150\n",
      "13/13 [==============================] - 0s 12ms/step - loss: 0.0598 - accuracy: 0.9780 - val_loss: 0.0195 - val_accuracy: 1.0000\n",
      "Epoch 91/150\n",
      "13/13 [==============================] - 0s 18ms/step - loss: 0.0612 - accuracy: 0.9829 - val_loss: 0.0198 - val_accuracy: 1.0000\n",
      "Epoch 92/150\n",
      "13/13 [==============================] - 0s 16ms/step - loss: 0.0606 - accuracy: 0.9829 - val_loss: 0.0203 - val_accuracy: 1.0000\n",
      "Epoch 93/150\n",
      "13/13 [==============================] - 0s 16ms/step - loss: 0.0554 - accuracy: 0.9804 - val_loss: 0.0201 - val_accuracy: 1.0000\n",
      "Epoch 94/150\n",
      "13/13 [==============================] - 0s 15ms/step - loss: 0.0503 - accuracy: 0.9829 - val_loss: 0.0195 - val_accuracy: 1.0000\n",
      "Epoch 95/150\n",
      "13/13 [==============================] - 0s 13ms/step - loss: 0.0618 - accuracy: 0.9804 - val_loss: 0.0194 - val_accuracy: 1.0000\n",
      "Epoch 96/150\n",
      "13/13 [==============================] - 0s 11ms/step - loss: 0.0601 - accuracy: 0.9731 - val_loss: 0.0189 - val_accuracy: 1.0000\n",
      "Epoch 97/150\n",
      "13/13 [==============================] - 0s 17ms/step - loss: 0.0631 - accuracy: 0.9804 - val_loss: 0.0182 - val_accuracy: 1.0000\n",
      "Epoch 98/150\n",
      "13/13 [==============================] - 0s 19ms/step - loss: 0.0491 - accuracy: 0.9829 - val_loss: 0.0183 - val_accuracy: 1.0000\n",
      "Epoch 99/150\n",
      "13/13 [==============================] - 0s 15ms/step - loss: 0.0526 - accuracy: 0.9878 - val_loss: 0.0177 - val_accuracy: 1.0000\n",
      "Epoch 100/150\n",
      "13/13 [==============================] - 0s 16ms/step - loss: 0.0590 - accuracy: 0.9756 - val_loss: 0.0172 - val_accuracy: 1.0000\n",
      "Epoch 101/150\n",
      "13/13 [==============================] - 0s 15ms/step - loss: 0.0599 - accuracy: 0.9853 - val_loss: 0.0173 - val_accuracy: 1.0000\n",
      "Epoch 102/150\n",
      "13/13 [==============================] - 0s 16ms/step - loss: 0.0592 - accuracy: 0.9853 - val_loss: 0.0175 - val_accuracy: 1.0000\n",
      "Epoch 103/150\n",
      "13/13 [==============================] - 0s 14ms/step - loss: 0.0558 - accuracy: 0.9902 - val_loss: 0.0179 - val_accuracy: 1.0000\n",
      "Epoch 104/150\n",
      "13/13 [==============================] - 0s 16ms/step - loss: 0.0451 - accuracy: 0.9853 - val_loss: 0.0176 - val_accuracy: 1.0000\n",
      "Epoch 105/150\n",
      "13/13 [==============================] - 0s 17ms/step - loss: 0.0564 - accuracy: 0.9804 - val_loss: 0.0178 - val_accuracy: 1.0000\n",
      "Epoch 106/150\n",
      "13/13 [==============================] - 0s 20ms/step - loss: 0.0507 - accuracy: 0.9829 - val_loss: 0.0177 - val_accuracy: 1.0000\n",
      "Epoch 107/150\n",
      "13/13 [==============================] - 0s 16ms/step - loss: 0.0561 - accuracy: 0.9853 - val_loss: 0.0178 - val_accuracy: 1.0000\n",
      "Epoch 108/150\n",
      "13/13 [==============================] - 0s 13ms/step - loss: 0.0606 - accuracy: 0.9780 - val_loss: 0.0174 - val_accuracy: 1.0000\n",
      "Epoch 109/150\n",
      "13/13 [==============================] - 0s 14ms/step - loss: 0.0406 - accuracy: 0.9853 - val_loss: 0.0167 - val_accuracy: 1.0000\n",
      "Epoch 110/150\n",
      "13/13 [==============================] - 0s 15ms/step - loss: 0.0561 - accuracy: 0.9853 - val_loss: 0.0163 - val_accuracy: 1.0000\n",
      "Epoch 111/150\n",
      "13/13 [==============================] - 0s 19ms/step - loss: 0.0501 - accuracy: 0.9804 - val_loss: 0.0166 - val_accuracy: 1.0000\n",
      "Epoch 112/150\n",
      "13/13 [==============================] - 0s 17ms/step - loss: 0.0504 - accuracy: 0.9804 - val_loss: 0.0161 - val_accuracy: 1.0000\n",
      "Epoch 113/150\n",
      "13/13 [==============================] - 0s 17ms/step - loss: 0.0601 - accuracy: 0.9853 - val_loss: 0.0162 - val_accuracy: 1.0000\n",
      "Epoch 114/150\n",
      "13/13 [==============================] - 0s 16ms/step - loss: 0.0487 - accuracy: 0.9902 - val_loss: 0.0166 - val_accuracy: 1.0000\n",
      "Epoch 115/150\n",
      "13/13 [==============================] - 0s 17ms/step - loss: 0.0516 - accuracy: 0.9853 - val_loss: 0.0168 - val_accuracy: 1.0000\n",
      "Epoch 116/150\n",
      "13/13 [==============================] - 0s 14ms/step - loss: 0.0523 - accuracy: 0.9829 - val_loss: 0.0164 - val_accuracy: 1.0000\n",
      "Epoch 117/150\n",
      "13/13 [==============================] - 0s 11ms/step - loss: 0.0592 - accuracy: 0.9853 - val_loss: 0.0157 - val_accuracy: 1.0000\n",
      "Epoch 118/150\n",
      "13/13 [==============================] - 0s 18ms/step - loss: 0.0507 - accuracy: 0.9829 - val_loss: 0.0159 - val_accuracy: 1.0000\n",
      "Epoch 119/150\n",
      "13/13 [==============================] - 0s 18ms/step - loss: 0.0523 - accuracy: 0.9829 - val_loss: 0.0156 - val_accuracy: 1.0000\n",
      "Epoch 120/150\n",
      "13/13 [==============================] - 0s 16ms/step - loss: 0.0519 - accuracy: 0.9804 - val_loss: 0.0162 - val_accuracy: 1.0000\n",
      "Epoch 121/150\n",
      "13/13 [==============================] - 0s 15ms/step - loss: 0.0455 - accuracy: 0.9804 - val_loss: 0.0161 - val_accuracy: 1.0000\n",
      "Epoch 122/150\n",
      "13/13 [==============================] - 0s 15ms/step - loss: 0.0464 - accuracy: 0.9829 - val_loss: 0.0153 - val_accuracy: 1.0000\n",
      "Epoch 123/150\n",
      "13/13 [==============================] - 0s 17ms/step - loss: 0.0688 - accuracy: 0.9731 - val_loss: 0.0154 - val_accuracy: 1.0000\n",
      "Epoch 124/150\n",
      "13/13 [==============================] - 0s 15ms/step - loss: 0.0584 - accuracy: 0.9804 - val_loss: 0.0153 - val_accuracy: 1.0000\n",
      "Epoch 125/150\n",
      "13/13 [==============================] - 0s 15ms/step - loss: 0.0484 - accuracy: 0.9902 - val_loss: 0.0151 - val_accuracy: 1.0000\n",
      "Epoch 126/150\n",
      "13/13 [==============================] - 0s 20ms/step - loss: 0.0385 - accuracy: 0.9902 - val_loss: 0.0150 - val_accuracy: 1.0000\n",
      "Epoch 127/150\n",
      "13/13 [==============================] - 0s 17ms/step - loss: 0.0566 - accuracy: 0.9829 - val_loss: 0.0151 - val_accuracy: 1.0000\n",
      "Epoch 128/150\n",
      "13/13 [==============================] - 0s 17ms/step - loss: 0.0399 - accuracy: 0.9902 - val_loss: 0.0150 - val_accuracy: 1.0000\n",
      "Epoch 129/150\n",
      "13/13 [==============================] - 0s 20ms/step - loss: 0.0480 - accuracy: 0.9829 - val_loss: 0.0146 - val_accuracy: 1.0000\n",
      "Epoch 130/150\n",
      "13/13 [==============================] - 0s 20ms/step - loss: 0.0477 - accuracy: 0.9829 - val_loss: 0.0146 - val_accuracy: 1.0000\n",
      "Epoch 131/150\n",
      "13/13 [==============================] - 0s 16ms/step - loss: 0.0473 - accuracy: 0.9853 - val_loss: 0.0150 - val_accuracy: 1.0000\n",
      "Epoch 132/150\n",
      "13/13 [==============================] - 0s 14ms/step - loss: 0.0473 - accuracy: 0.9780 - val_loss: 0.0147 - val_accuracy: 1.0000\n",
      "Epoch 133/150\n",
      "13/13 [==============================] - 0s 16ms/step - loss: 0.0493 - accuracy: 0.9853 - val_loss: 0.0148 - val_accuracy: 1.0000\n",
      "Epoch 134/150\n",
      "13/13 [==============================] - 0s 12ms/step - loss: 0.0444 - accuracy: 0.9853 - val_loss: 0.0149 - val_accuracy: 1.0000\n",
      "Epoch 135/150\n",
      "13/13 [==============================] - 0s 15ms/step - loss: 0.0600 - accuracy: 0.9853 - val_loss: 0.0153 - val_accuracy: 1.0000\n",
      "Epoch 136/150\n",
      "13/13 [==============================] - 0s 12ms/step - loss: 0.0420 - accuracy: 0.9853 - val_loss: 0.0148 - val_accuracy: 1.0000\n",
      "Epoch 137/150\n",
      "13/13 [==============================] - 0s 16ms/step - loss: 0.0393 - accuracy: 0.9878 - val_loss: 0.0145 - val_accuracy: 1.0000\n",
      "Epoch 138/150\n",
      "13/13 [==============================] - 0s 15ms/step - loss: 0.0402 - accuracy: 0.9902 - val_loss: 0.0142 - val_accuracy: 1.0000\n",
      "Epoch 139/150\n",
      "13/13 [==============================] - 0s 16ms/step - loss: 0.0484 - accuracy: 0.9829 - val_loss: 0.0141 - val_accuracy: 1.0000\n",
      "Epoch 140/150\n",
      "13/13 [==============================] - 0s 14ms/step - loss: 0.0373 - accuracy: 0.9927 - val_loss: 0.0137 - val_accuracy: 1.0000\n",
      "Epoch 141/150\n",
      "13/13 [==============================] - 0s 11ms/step - loss: 0.0397 - accuracy: 0.9829 - val_loss: 0.0140 - val_accuracy: 1.0000\n",
      "Epoch 142/150\n",
      "13/13 [==============================] - 0s 11ms/step - loss: 0.0431 - accuracy: 0.9853 - val_loss: 0.0136 - val_accuracy: 1.0000\n",
      "Epoch 143/150\n",
      "13/13 [==============================] - 0s 18ms/step - loss: 0.0476 - accuracy: 0.9853 - val_loss: 0.0137 - val_accuracy: 1.0000\n",
      "Epoch 144/150\n",
      "13/13 [==============================] - 0s 17ms/step - loss: 0.0400 - accuracy: 0.9902 - val_loss: 0.0135 - val_accuracy: 1.0000\n",
      "Epoch 145/150\n",
      "13/13 [==============================] - 0s 17ms/step - loss: 0.0566 - accuracy: 0.9853 - val_loss: 0.0137 - val_accuracy: 1.0000\n",
      "Epoch 146/150\n",
      "13/13 [==============================] - 0s 12ms/step - loss: 0.0370 - accuracy: 0.9902 - val_loss: 0.0134 - val_accuracy: 1.0000\n",
      "Epoch 147/150\n",
      "13/13 [==============================] - 0s 12ms/step - loss: 0.0419 - accuracy: 0.9878 - val_loss: 0.0131 - val_accuracy: 1.0000\n",
      "Epoch 148/150\n",
      "13/13 [==============================] - 0s 22ms/step - loss: 0.0443 - accuracy: 0.9780 - val_loss: 0.0127 - val_accuracy: 1.0000\n",
      "Epoch 149/150\n",
      "13/13 [==============================] - 0s 16ms/step - loss: 0.0631 - accuracy: 0.9804 - val_loss: 0.0126 - val_accuracy: 1.0000\n",
      "Epoch 150/150\n",
      "13/13 [==============================] - 0s 16ms/step - loss: 0.0366 - accuracy: 0.9927 - val_loss: 0.0131 - val_accuracy: 1.0000\n"
     ]
    }
   ],
   "source": [
    "history = classifier.fit(x_train, y_train, batch_size=32, epochs=150,validation_split = 0.2)"
   ]
  },
  {
   "cell_type": "code",
   "execution_count": 92,
   "metadata": {},
   "outputs": [
    {
     "data": {
      "text/plain": [
       "array([[9.9999958e-01],\n",
       "       [2.1007448e-02],\n",
       "       [1.4987588e-04],\n",
       "       [3.0531287e-03],\n",
       "       [3.6516786e-04],\n",
       "       [5.7048306e-05],\n",
       "       [6.8941612e-05],\n",
       "       [2.9998708e-05],\n",
       "       [1.4020530e-07],\n",
       "       [1.5699770e-08],\n",
       "       [2.1475881e-02],\n",
       "       [3.1383067e-02],\n",
       "       [2.8614145e-06],\n",
       "       [3.1487262e-01],\n",
       "       [1.1474955e-01],\n",
       "       [1.0000000e+00],\n",
       "       [1.6202577e-05],\n",
       "       [1.0000000e+00],\n",
       "       [1.0000000e+00],\n",
       "       [1.0000000e+00],\n",
       "       [9.9999952e-01],\n",
       "       [9.9999869e-01],\n",
       "       [3.2365322e-04],\n",
       "       [1.5768409e-04],\n",
       "       [1.0000000e+00],\n",
       "       [2.0492176e-05],\n",
       "       [7.0558076e-07],\n",
       "       [9.9999863e-01],\n",
       "       [6.2368796e-05],\n",
       "       [1.0000000e+00],\n",
       "       [1.8645718e-06],\n",
       "       [1.0000000e+00],\n",
       "       [4.2297125e-02],\n",
       "       [1.0000000e+00],\n",
       "       [3.7970460e-10],\n",
       "       [1.0000000e+00],\n",
       "       [4.9616098e-03],\n",
       "       [1.0000000e+00],\n",
       "       [6.0671568e-04],\n",
       "       [1.0000000e+00],\n",
       "       [9.9936211e-01],\n",
       "       [6.3830657e-07],\n",
       "       [9.8730874e-01],\n",
       "       [2.9866226e-07],\n",
       "       [5.7478547e-03],\n",
       "       [1.0000000e+00],\n",
       "       [4.0638187e-10],\n",
       "       [1.7009199e-02],\n",
       "       [1.3857518e-05],\n",
       "       [1.0000000e+00],\n",
       "       [1.0000000e+00],\n",
       "       [9.9992394e-01],\n",
       "       [1.0000000e+00],\n",
       "       [6.9923313e-05],\n",
       "       [1.6447902e-04],\n",
       "       [3.4697589e-06],\n",
       "       [2.9117035e-05]], dtype=float32)"
      ]
     },
     "execution_count": 92,
     "metadata": {},
     "output_type": "execute_result"
    }
   ],
   "source": [
    "# Predicting the Test set results\n",
    "y_pred = classifier.predict(x_test)\n",
    "#y_pred = (y_pred > 0.5)\n",
    "y_pred #Note que los valores de salida son continuos entre 0 y 1 debido a la función de activación: sigmoide\n",
    "# de la capa de salida que se indico en la creación del modelo."
   ]
  },
  {
   "cell_type": "code",
   "execution_count": 93,
   "metadata": {},
   "outputs": [
    {
     "data": {
      "text/plain": [
       "array([[1.],\n",
       "       [0.],\n",
       "       [0.],\n",
       "       [0.],\n",
       "       [0.],\n",
       "       [0.],\n",
       "       [0.],\n",
       "       [0.],\n",
       "       [0.],\n",
       "       [0.],\n",
       "       [0.],\n",
       "       [0.],\n",
       "       [0.],\n",
       "       [0.],\n",
       "       [0.],\n",
       "       [1.],\n",
       "       [0.],\n",
       "       [1.],\n",
       "       [1.],\n",
       "       [1.],\n",
       "       [1.],\n",
       "       [1.],\n",
       "       [0.],\n",
       "       [0.],\n",
       "       [1.],\n",
       "       [0.],\n",
       "       [0.],\n",
       "       [1.],\n",
       "       [0.],\n",
       "       [1.],\n",
       "       [0.],\n",
       "       [1.],\n",
       "       [0.],\n",
       "       [1.],\n",
       "       [0.],\n",
       "       [1.],\n",
       "       [0.],\n",
       "       [1.],\n",
       "       [0.],\n",
       "       [1.],\n",
       "       [1.],\n",
       "       [0.],\n",
       "       [1.],\n",
       "       [0.],\n",
       "       [0.],\n",
       "       [1.],\n",
       "       [0.],\n",
       "       [0.],\n",
       "       [0.],\n",
       "       [1.],\n",
       "       [1.],\n",
       "       [1.],\n",
       "       [1.],\n",
       "       [0.],\n",
       "       [0.],\n",
       "       [0.],\n",
       "       [0.]], dtype=float32)"
      ]
     },
     "execution_count": 93,
     "metadata": {},
     "output_type": "execute_result"
    }
   ],
   "source": [
    "y_pred[y_pred > 0.5] = 1\n",
    "y_pred[y_pred <=0.5] = 0\n",
    "y_pred # Se realiza una aproximación de los datos continuos a unicamente dos estados 1 ó 0 (cancer o noCancer)"
   ]
  },
  {
   "cell_type": "code",
   "execution_count": 94,
   "metadata": {},
   "outputs": [
    {
     "name": "stdout",
     "output_type": "stream",
     "text": [
      "Our accuracy is 100.0%\n"
     ]
    }
   ],
   "source": [
    "cm = confusion_matrix(y_test, y_pred)\n",
    "print(\"Our accuracy is {}%\".format(((cm[0][0] + cm[1][1])/y_test.shape[0])*100))"
   ]
  },
  {
   "cell_type": "code",
   "execution_count": 95,
   "metadata": {},
   "outputs": [
    {
     "data": {
      "image/png": "[encoded data removed]",
      "text/plain": [
       "<Figure size 432x288 with 2 Axes>"
      ]
     },
     "metadata": {
      "needs_background": "light"
     },
     "output_type": "display_data"
    }
   ],
   "source": [
    "sns.heatmap(cm,annot=True)\n",
    "plt.savefig('h.png')"
   ]
  },
  {
   "cell_type": "code",
   "execution_count": 96,
   "metadata": {},
   "outputs": [],
   "source": [
    "def plot_metric(history, metric):\n",
    "    train_metrics = history.history[metric]\n",
    "    val_metrics = history.history['val_'+metric]\n",
    "    epochs = range(1, len(train_metrics) + 1)\n",
    "    plt.plot(epochs, train_metrics, 'bo--')\n",
    "    plt.plot(epochs, val_metrics, 'ro-')\n",
    "    plt.title('Entrenamiento y validación '+ metric)\n",
    "    plt.xlabel(\"Epochs\")\n",
    "    plt.ylabel(metric)\n",
    "    plt.legend([\"train_\"+metric, 'val_'+metric])\n",
    "    plt.show()"
   ]
  },
  {
   "cell_type": "code",
   "execution_count": 97,
   "metadata": {},
   "outputs": [
    {
     "data": {
      "image/png": "[encoded data removed]",
      "text/plain": [
       "<Figure size 432x288 with 1 Axes>"
      ]
     },
     "metadata": {
      "needs_background": "light"
     },
     "output_type": "display_data"
    }
   ],
   "source": [
    "plot_metric(history, 'loss')"
   ]
  },
  {
   "cell_type": "code",
   "execution_count": 98,
   "metadata": {},
   "outputs": [
    {
     "data": {
      "image/png": "[encoded data removed]",
      "text/plain": [
       "<Figure size 432x288 with 1 Axes>"
      ]
     },
     "metadata": {
      "needs_background": "light"
     },
     "output_type": "display_data"
    }
   ],
   "source": [
    "plot_metric(history, 'accuracy')"
   ]
  },
  {
   "cell_type": "code",
   "execution_count": null,
   "metadata": {},
   "outputs": [],
   "source": []
  }
 ],
 "metadata": {
  "kernelspec": {
   "display_name": "Python 3",
   "language": "python",
   "name": "python3"
  },
  "language_info": {
   "codemirror_mode": {
    "name": "ipython",
    "version": 3
   },
   "file_extension": ".py",
   "mimetype": "text/x-python",
   "name": "python",
   "nbconvert_exporter": "python",
   "pygments_lexer": "ipython3",
   "version": "3.8.5"
  }
 },
 "nbformat": 4,
 "nbformat_minor": 4
}
