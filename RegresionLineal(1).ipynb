{
 "cells": [
  {
   "cell_type": "markdown",
   "metadata": {},
   "source": [
    "#### Jorge Eduardo Rondón Ruiz - jerondonr@unal.edu.co\n",
    "#### Ingeniero electrónico\n",
    "#### Universidad Nacional de Colombia\n",
    "\n",
    "***\n"
   ]
  },
  {
   "cell_type": "markdown",
   "metadata": {},
   "source": [
    "# <center>Regresión lineal</center>"
   ]
  },
  {
   "cell_type": "markdown",
   "metadata": {},
   "source": [
    "**1. Introducción**\n",
    "\n",
    "La necesidad creciente de los seres humanos de mejorar los aspectos de su vida cotidiana, lo obligan constantemente a encontrar significado a cada uno de los acontecimientos que los rodea, ya que sin esta comprensión, sería solo cuestión de azar que pudieran encontrar el mejoramiento deseado. En este camino, diariamente se desarrolla una gran cantidad de conocimiento de diferentes tipos, lo que genera una gran cantidad de datos, que de ser analizados adecuadamente, sería muy posible encontrar solución a los problemas encontrados. Sin embargo, debido a que en ocasiones el análisis de gran cantidad de datos se torna algo complejo, se han desarrollado gran cantidad de teorias que facilitan su procesamiento. La Regresión lineal es un metodo para el análisis de datos ampliamente conocido, que permite encontrar relaciones aproximadas entre las variables de interes. A lo largo de este documento se aplicará este concepto para encontrar la relación que existe entre dos variables de interes que han sido obtenidos de un set de datos de videos de youtube."
   ]
  },
  {
   "cell_type": "markdown",
   "metadata": {},
   "source": [
    "**2. Breve historia**\n",
    "\n",
    "El método de los minimos cuadrados es quizas la primera forma de regresión lineal en la cual trabajaron personasjes historicos conocidos como Legendre y Gauss.\n",
    "Existe una gran variedad de técnicas de regresión, por lo que la regresión lineal es un caso particular que intenta modelar de forma rapida y aproximada el conjunto de datos de interes [1].\n",
    "\n",
    "<img src=\"Gauss.jpeg\">\n"
   ]
  },
  {
   "cell_type": "markdown",
   "metadata": {},
   "source": [
    "**3. El planteamiento del algortimo**\n",
    "\n",
    "El algoritmo de regresión lineal consiste en encontrar los pesos de una ecuación matematica que sea capaz de modelar en una linea el comportamiento de los datos analizados. El modelo es de la forma:\n",
    "\n",
    "$$y=\\beta_0 + \\beta_1*X_1 + ... + \\beta_m*X_m$$\n",
    "$$y=\\beta_0 + \\sum^{m}_{j=1} \\beta_j*X_j$$\n",
    "\n",
    "en donde $\\beta_0$, ... ,$\\beta_m$ son los valores que se encontrarán con el metodo y $X_0$, ... , $X_m$ son los datos de entrada del modelo.\n",
    "\n",
    "Dependiendo de la forma de los datos, se deberá usar una mayor o menor cantidad de pesos para que el resultado de la regresión describa apropiadamente el comportamiento de los datos [1].\n",
    "\n",
    "![CPU](https://i1.wp.com/www.pacorabadan.com/wp-content/uploads/2015/11/1280px-Linear_regression.svg_.png?fit=1280%2C845&ssl=1 \"CPU: Unidad Central de Proceso. Tomado de [1]\")"
   ]
  },
  {
   "cell_type": "markdown",
   "metadata": {},
   "source": [
    "**4. Desarrollar un ejemplo de regresión lineal, con datos reales**"
   ]
  },
  {
   "cell_type": "code",
   "execution_count": 1,
   "metadata": {},
   "outputs": [
    {
     "data": {
      "text/html": [
       "<div>\n",
       "<style scoped>\n",
       "    .dataframe tbody tr th:only-of-type {\n",
       "        vertical-align: middle;\n",
       "    }\n",
       "\n",
       "    .dataframe tbody tr th {\n",
       "        vertical-align: top;\n",
       "    }\n",
       "\n",
       "    .dataframe thead th {\n",
       "        text-align: right;\n",
       "    }\n",
       "</style>\n",
       "<table border=\"1\" class=\"dataframe\">\n",
       "  <thead>\n",
       "    <tr style=\"text-align: right;\">\n",
       "      <th></th>\n",
       "      <th>video_id</th>\n",
       "      <th>trending_date</th>\n",
       "      <th>title</th>\n",
       "      <th>channel_title</th>\n",
       "      <th>category_id</th>\n",
       "      <th>publish_time</th>\n",
       "      <th>tags</th>\n",
       "      <th>views</th>\n",
       "      <th>likes</th>\n",
       "      <th>dislikes</th>\n",
       "      <th>comment_count</th>\n",
       "      <th>thumbnail_link</th>\n",
       "      <th>comments_disabled</th>\n",
       "      <th>ratings_disabled</th>\n",
       "      <th>video_error_or_removed</th>\n",
       "      <th>description</th>\n",
       "    </tr>\n",
       "  </thead>\n",
       "  <tbody>\n",
       "    <tr>\n",
       "      <th>0</th>\n",
       "      <td>2kyS6SvSYSE</td>\n",
       "      <td>17.14.11</td>\n",
       "      <td>WE WANT TO TALK ABOUT OUR MARRIAGE</td>\n",
       "      <td>CaseyNeistat</td>\n",
       "      <td>22</td>\n",
       "      <td>2017-11-13T17:13:01.000Z</td>\n",
       "      <td>SHANtell martin</td>\n",
       "      <td>748374</td>\n",
       "      <td>57527</td>\n",
       "      <td>2966</td>\n",
       "      <td>15954</td>\n",
       "      <td>https://i.ytimg.com/vi/2kyS6SvSYSE/default.jpg</td>\n",
       "      <td>False</td>\n",
       "      <td>False</td>\n",
       "      <td>False</td>\n",
       "      <td>SHANTELL'S CHANNEL - https://www.youtube.com/s...</td>\n",
       "    </tr>\n",
       "    <tr>\n",
       "      <th>1</th>\n",
       "      <td>1ZAPwfrtAFY</td>\n",
       "      <td>17.14.11</td>\n",
       "      <td>The Trump Presidency: Last Week Tonight with J...</td>\n",
       "      <td>LastWeekTonight</td>\n",
       "      <td>24</td>\n",
       "      <td>2017-11-13T07:30:00.000Z</td>\n",
       "      <td>last week tonight trump presidency|\"last week ...</td>\n",
       "      <td>2418783</td>\n",
       "      <td>97185</td>\n",
       "      <td>6146</td>\n",
       "      <td>12703</td>\n",
       "      <td>https://i.ytimg.com/vi/1ZAPwfrtAFY/default.jpg</td>\n",
       "      <td>False</td>\n",
       "      <td>False</td>\n",
       "      <td>False</td>\n",
       "      <td>One year after the presidential election, John...</td>\n",
       "    </tr>\n",
       "    <tr>\n",
       "      <th>2</th>\n",
       "      <td>5qpjK5DgCt4</td>\n",
       "      <td>17.14.11</td>\n",
       "      <td>Racist Superman | Rudy Mancuso, King Bach &amp; Le...</td>\n",
       "      <td>Rudy Mancuso</td>\n",
       "      <td>23</td>\n",
       "      <td>2017-11-12T19:05:24.000Z</td>\n",
       "      <td>racist superman|\"rudy\"|\"mancuso\"|\"king\"|\"bach\"...</td>\n",
       "      <td>3191434</td>\n",
       "      <td>146033</td>\n",
       "      <td>5339</td>\n",
       "      <td>8181</td>\n",
       "      <td>https://i.ytimg.com/vi/5qpjK5DgCt4/default.jpg</td>\n",
       "      <td>False</td>\n",
       "      <td>False</td>\n",
       "      <td>False</td>\n",
       "      <td>WATCH MY PREVIOUS VIDEO ▶ \\n\\nSUBSCRIBE ► http...</td>\n",
       "    </tr>\n",
       "    <tr>\n",
       "      <th>3</th>\n",
       "      <td>puqaWrEC7tY</td>\n",
       "      <td>17.14.11</td>\n",
       "      <td>Nickelback Lyrics: Real or Fake?</td>\n",
       "      <td>Good Mythical Morning</td>\n",
       "      <td>24</td>\n",
       "      <td>2017-11-13T11:00:04.000Z</td>\n",
       "      <td>rhett and link|\"gmm\"|\"good mythical morning\"|\"...</td>\n",
       "      <td>343168</td>\n",
       "      <td>10172</td>\n",
       "      <td>666</td>\n",
       "      <td>2146</td>\n",
       "      <td>https://i.ytimg.com/vi/puqaWrEC7tY/default.jpg</td>\n",
       "      <td>False</td>\n",
       "      <td>False</td>\n",
       "      <td>False</td>\n",
       "      <td>Today we find out if Link is a Nickelback amat...</td>\n",
       "    </tr>\n",
       "    <tr>\n",
       "      <th>4</th>\n",
       "      <td>d380meD0W0M</td>\n",
       "      <td>17.14.11</td>\n",
       "      <td>I Dare You: GOING BALD!?</td>\n",
       "      <td>nigahiga</td>\n",
       "      <td>24</td>\n",
       "      <td>2017-11-12T18:01:41.000Z</td>\n",
       "      <td>ryan|\"higa\"|\"higatv\"|\"nigahiga\"|\"i dare you\"|\"...</td>\n",
       "      <td>2095731</td>\n",
       "      <td>132235</td>\n",
       "      <td>1989</td>\n",
       "      <td>17518</td>\n",
       "      <td>https://i.ytimg.com/vi/d380meD0W0M/default.jpg</td>\n",
       "      <td>False</td>\n",
       "      <td>False</td>\n",
       "      <td>False</td>\n",
       "      <td>I know it's been a while since we did this sho...</td>\n",
       "    </tr>\n",
       "    <tr>\n",
       "      <th>...</th>\n",
       "      <td>...</td>\n",
       "      <td>...</td>\n",
       "      <td>...</td>\n",
       "      <td>...</td>\n",
       "      <td>...</td>\n",
       "      <td>...</td>\n",
       "      <td>...</td>\n",
       "      <td>...</td>\n",
       "      <td>...</td>\n",
       "      <td>...</td>\n",
       "      <td>...</td>\n",
       "      <td>...</td>\n",
       "      <td>...</td>\n",
       "      <td>...</td>\n",
       "      <td>...</td>\n",
       "      <td>...</td>\n",
       "    </tr>\n",
       "    <tr>\n",
       "      <th>9996</th>\n",
       "      <td>IU-Fo-QEpOI</td>\n",
       "      <td>18.02.01</td>\n",
       "      <td>Dude Perfect Face Off | What's In The Box</td>\n",
       "      <td>Whistle Sports</td>\n",
       "      <td>17</td>\n",
       "      <td>2017-12-20T23:00:00.000Z</td>\n",
       "      <td>dude perfect|\"dude perfect christmas\"|\"dude pe...</td>\n",
       "      <td>3095325</td>\n",
       "      <td>40946</td>\n",
       "      <td>1082</td>\n",
       "      <td>2472</td>\n",
       "      <td>https://i.ytimg.com/vi/IU-Fo-QEpOI/default.jpg</td>\n",
       "      <td>False</td>\n",
       "      <td>False</td>\n",
       "      <td>False</td>\n",
       "      <td>This Twin Battle is sponsored by Dollar Shave ...</td>\n",
       "    </tr>\n",
       "    <tr>\n",
       "      <th>9997</th>\n",
       "      <td>6hb0GOOFQwI</td>\n",
       "      <td>18.02.01</td>\n",
       "      <td>MST3K (2017) Yule Log</td>\n",
       "      <td>MYSTERY SCIENCE THEATER 3000</td>\n",
       "      <td>23</td>\n",
       "      <td>2017-12-22T00:53:08.000Z</td>\n",
       "      <td>mst3k|\"mystery science theater\"|\"tom servo\"|\"c...</td>\n",
       "      <td>24296</td>\n",
       "      <td>828</td>\n",
       "      <td>63</td>\n",
       "      <td>82</td>\n",
       "      <td>https://i.ytimg.com/vi/6hb0GOOFQwI/default.jpg</td>\n",
       "      <td>False</td>\n",
       "      <td>False</td>\n",
       "      <td>False</td>\n",
       "      <td>Enjoy this MST3K Yule Log!\\n\\nWelcome to the o...</td>\n",
       "    </tr>\n",
       "    <tr>\n",
       "      <th>9998</th>\n",
       "      <td>YEGhKwpEKEw</td>\n",
       "      <td>18.02.01</td>\n",
       "      <td>TITANIC TRANSFORMATION! THE ROSE LOOK FEAT. GU...</td>\n",
       "      <td>Lisa Eldridge</td>\n",
       "      <td>26</td>\n",
       "      <td>2017-12-21T17:03:31.000Z</td>\n",
       "      <td>Lisa Eldridge|\"Lisa Elridge\"|\"Lisa Eldrige\"|\"M...</td>\n",
       "      <td>476030</td>\n",
       "      <td>20712</td>\n",
       "      <td>254</td>\n",
       "      <td>1130</td>\n",
       "      <td>https://i.ytimg.com/vi/YEGhKwpEKEw/default.jpg</td>\n",
       "      <td>False</td>\n",
       "      <td>False</td>\n",
       "      <td>False</td>\n",
       "      <td>Follow me on instagram here http://instagram.c...</td>\n",
       "    </tr>\n",
       "    <tr>\n",
       "      <th>9999</th>\n",
       "      <td>AaALLWQmCdI</td>\n",
       "      <td>18.02.01</td>\n",
       "      <td>Making new sounds using artificial intelligence</td>\n",
       "      <td>ANDREW HUANG</td>\n",
       "      <td>10</td>\n",
       "      <td>2017-12-21T15:30:00.000Z</td>\n",
       "      <td>andrew|\"huang\"|\"andrew huang\"|\"music\"|\"musicia...</td>\n",
       "      <td>129318</td>\n",
       "      <td>9577</td>\n",
       "      <td>103</td>\n",
       "      <td>1498</td>\n",
       "      <td>https://i.ytimg.com/vi/AaALLWQmCdI/default.jpg</td>\n",
       "      <td>False</td>\n",
       "      <td>False</td>\n",
       "      <td>False</td>\n",
       "      <td>RAINBOWGRAM stream/download:\\nSpotify https://...</td>\n",
       "    </tr>\n",
       "    <tr>\n",
       "      <th>10000</th>\n",
       "      <td>QwZT7T-TXT0</td>\n",
       "      <td>18.03.01</td>\n",
       "      <td>So Sorry.</td>\n",
       "      <td>Logan Paul Vlogs</td>\n",
       "      <td>24</td>\n",
       "      <td>2018-01-02T16:42:21.000Z</td>\n",
       "      <td>logan paul vlog|\"logan paul\"|\"logan\"|\"paul\"|\"o...</td>\n",
       "      <td>13305605</td>\n",
       "      <td>835378</td>\n",
       "      <td>629120</td>\n",
       "      <td>733373</td>\n",
       "      <td>https://i.ytimg.com/vi/QwZT7T-TXT0/default.jpg</td>\n",
       "      <td>False</td>\n",
       "      <td>False</td>\n",
       "      <td>False</td>\n",
       "      <td>NaN</td>\n",
       "    </tr>\n",
       "  </tbody>\n",
       "</table>\n",
       "<p>10001 rows × 16 columns</p>\n",
       "</div>"
      ],
      "text/plain": [
       "          video_id trending_date  \\\n",
       "0      2kyS6SvSYSE      17.14.11   \n",
       "1      1ZAPwfrtAFY      17.14.11   \n",
       "2      5qpjK5DgCt4      17.14.11   \n",
       "3      puqaWrEC7tY      17.14.11   \n",
       "4      d380meD0W0M      17.14.11   \n",
       "...            ...           ...   \n",
       "9996   IU-Fo-QEpOI      18.02.01   \n",
       "9997   6hb0GOOFQwI      18.02.01   \n",
       "9998   YEGhKwpEKEw      18.02.01   \n",
       "9999   AaALLWQmCdI      18.02.01   \n",
       "10000  QwZT7T-TXT0      18.03.01   \n",
       "\n",
       "                                                   title  \\\n",
       "0                     WE WANT TO TALK ABOUT OUR MARRIAGE   \n",
       "1      The Trump Presidency: Last Week Tonight with J...   \n",
       "2      Racist Superman | Rudy Mancuso, King Bach & Le...   \n",
       "3                       Nickelback Lyrics: Real or Fake?   \n",
       "4                               I Dare You: GOING BALD!?   \n",
       "...                                                  ...   \n",
       "9996           Dude Perfect Face Off | What's In The Box   \n",
       "9997                               MST3K (2017) Yule Log   \n",
       "9998   TITANIC TRANSFORMATION! THE ROSE LOOK FEAT. GU...   \n",
       "9999     Making new sounds using artificial intelligence   \n",
       "10000                                          So Sorry.   \n",
       "\n",
       "                      channel_title  category_id              publish_time  \\\n",
       "0                      CaseyNeistat           22  2017-11-13T17:13:01.000Z   \n",
       "1                   LastWeekTonight           24  2017-11-13T07:30:00.000Z   \n",
       "2                      Rudy Mancuso           23  2017-11-12T19:05:24.000Z   \n",
       "3             Good Mythical Morning           24  2017-11-13T11:00:04.000Z   \n",
       "4                          nigahiga           24  2017-11-12T18:01:41.000Z   \n",
       "...                             ...          ...                       ...   \n",
       "9996                 Whistle Sports           17  2017-12-20T23:00:00.000Z   \n",
       "9997   MYSTERY SCIENCE THEATER 3000           23  2017-12-22T00:53:08.000Z   \n",
       "9998                  Lisa Eldridge           26  2017-12-21T17:03:31.000Z   \n",
       "9999                   ANDREW HUANG           10  2017-12-21T15:30:00.000Z   \n",
       "10000              Logan Paul Vlogs           24  2018-01-02T16:42:21.000Z   \n",
       "\n",
       "                                                    tags     views   likes  \\\n",
       "0                                        SHANtell martin    748374   57527   \n",
       "1      last week tonight trump presidency|\"last week ...   2418783   97185   \n",
       "2      racist superman|\"rudy\"|\"mancuso\"|\"king\"|\"bach\"...   3191434  146033   \n",
       "3      rhett and link|\"gmm\"|\"good mythical morning\"|\"...    343168   10172   \n",
       "4      ryan|\"higa\"|\"higatv\"|\"nigahiga\"|\"i dare you\"|\"...   2095731  132235   \n",
       "...                                                  ...       ...     ...   \n",
       "9996   dude perfect|\"dude perfect christmas\"|\"dude pe...   3095325   40946   \n",
       "9997   mst3k|\"mystery science theater\"|\"tom servo\"|\"c...     24296     828   \n",
       "9998   Lisa Eldridge|\"Lisa Elridge\"|\"Lisa Eldrige\"|\"M...    476030   20712   \n",
       "9999   andrew|\"huang\"|\"andrew huang\"|\"music\"|\"musicia...    129318    9577   \n",
       "10000  logan paul vlog|\"logan paul\"|\"logan\"|\"paul\"|\"o...  13305605  835378   \n",
       "\n",
       "       dislikes  comment_count  \\\n",
       "0          2966          15954   \n",
       "1          6146          12703   \n",
       "2          5339           8181   \n",
       "3           666           2146   \n",
       "4          1989          17518   \n",
       "...         ...            ...   \n",
       "9996       1082           2472   \n",
       "9997         63             82   \n",
       "9998        254           1130   \n",
       "9999        103           1498   \n",
       "10000    629120         733373   \n",
       "\n",
       "                                       thumbnail_link  comments_disabled  \\\n",
       "0      https://i.ytimg.com/vi/2kyS6SvSYSE/default.jpg              False   \n",
       "1      https://i.ytimg.com/vi/1ZAPwfrtAFY/default.jpg              False   \n",
       "2      https://i.ytimg.com/vi/5qpjK5DgCt4/default.jpg              False   \n",
       "3      https://i.ytimg.com/vi/puqaWrEC7tY/default.jpg              False   \n",
       "4      https://i.ytimg.com/vi/d380meD0W0M/default.jpg              False   \n",
       "...                                               ...                ...   \n",
       "9996   https://i.ytimg.com/vi/IU-Fo-QEpOI/default.jpg              False   \n",
       "9997   https://i.ytimg.com/vi/6hb0GOOFQwI/default.jpg              False   \n",
       "9998   https://i.ytimg.com/vi/YEGhKwpEKEw/default.jpg              False   \n",
       "9999   https://i.ytimg.com/vi/AaALLWQmCdI/default.jpg              False   \n",
       "10000  https://i.ytimg.com/vi/QwZT7T-TXT0/default.jpg              False   \n",
       "\n",
       "       ratings_disabled  video_error_or_removed  \\\n",
       "0                 False                   False   \n",
       "1                 False                   False   \n",
       "2                 False                   False   \n",
       "3                 False                   False   \n",
       "4                 False                   False   \n",
       "...                 ...                     ...   \n",
       "9996              False                   False   \n",
       "9997              False                   False   \n",
       "9998              False                   False   \n",
       "9999              False                   False   \n",
       "10000             False                   False   \n",
       "\n",
       "                                             description  \n",
       "0      SHANTELL'S CHANNEL - https://www.youtube.com/s...  \n",
       "1      One year after the presidential election, John...  \n",
       "2      WATCH MY PREVIOUS VIDEO ▶ \\n\\nSUBSCRIBE ► http...  \n",
       "3      Today we find out if Link is a Nickelback amat...  \n",
       "4      I know it's been a while since we did this sho...  \n",
       "...                                                  ...  \n",
       "9996   This Twin Battle is sponsored by Dollar Shave ...  \n",
       "9997   Enjoy this MST3K Yule Log!\\n\\nWelcome to the o...  \n",
       "9998   Follow me on instagram here http://instagram.c...  \n",
       "9999   RAINBOWGRAM stream/download:\\nSpotify https://...  \n",
       "10000                                                NaN  \n",
       "\n",
       "[10001 rows x 16 columns]"
      ]
     },
     "execution_count": 1,
     "metadata": {},
     "output_type": "execute_result"
    }
   ],
   "source": [
    "import pandas as pd\n",
    "import matplotlib.pyplot as plt\n",
    "import numpy as np\n",
    "\n",
    "folder_path='/home/jorgerondon/Documentos/InteligenciaArtificial/DiplomadoIA/CuadernosJupyterJorgeE/datosRegresionLineal/USvideos.csv'\n",
    "df= pd.read_csv(folder_path)\n",
    "for i in df.index:\n",
    "    if (i>10000):\n",
    "        df.drop(i, inplace = True)\n",
    "#df.plot(kind = 'scatter', x = 'likes', y = 'views')\n",
    "\n",
    "#plt.show() \n",
    "df"
   ]
  },
  {
   "cell_type": "code",
   "execution_count": 2,
   "metadata": {},
   "outputs": [
    {
     "name": "stdout",
     "output_type": "stream",
     "text": [
      "[      687       704       773 ... 125432237 137843120 149376127]\n",
      "[     10      10       2 ... 2912702 3014471 3093544]\n"
     ]
    }
   ],
   "source": [
    "df.sort_values(by=['views'], inplace=True)\n",
    "xViews_train = np.array(df['views'])\n",
    "yLikes_train = np.array(df['likes'])\n",
    "print(xViews_train)\n",
    "print(yLikes_train)"
   ]
  },
  {
   "cell_type": "code",
   "execution_count": 3,
   "metadata": {},
   "outputs": [
    {
     "data": {
      "image/png": "[encoded data removed]",
      "text/plain": [
       "<Figure size 1080x576 with 1 Axes>"
      ]
     },
     "metadata": {
      "needs_background": "light"
     },
     "output_type": "display_data"
    }
   ],
   "source": [
    "df.plot(kind = 'scatter', x = 'views', y = 'likes',figsize=(15,8))\n",
    "plt.show() "
   ]
  },
  {
   "cell_type": "code",
   "execution_count": 4,
   "metadata": {},
   "outputs": [
    {
     "data": {
      "image/png": "[encoded data removed]",
      "text/plain": [
       "<Figure size 432x288 with 1 Axes>"
      ]
     },
     "metadata": {
      "needs_background": "light"
     },
     "output_type": "display_data"
    },
    {
     "name": "stdout",
     "output_type": "stream",
     "text": [
      "El valor de a es:  0.028898491006804774 El valor de b es:  9937.470772864572\n"
     ]
    }
   ],
   "source": [
    "a,b =np.polyfit(xViews_train,yLikes_train, deg=1)\n",
    "yMod= a*xViews_train+b\n",
    "fig, var=plt.subplots()\n",
    "var.plot(xViews_train,yLikes_train, 'o')\n",
    "var.plot(xViews_train,yMod, '-', color='r')\n",
    "plt.xlabel(\"Views\",fontsize=15)\n",
    "plt.ylabel(\"Likes\", fontsize=15)\n",
    "plt.show()\n",
    "print(\"El valor de a es: \",a,\"El valor de b es: \",b)"
   ]
  },
  {
   "cell_type": "code",
   "execution_count": 9,
   "metadata": {},
   "outputs": [
    {
     "name": "stdout",
     "output_type": "stream",
     "text": [
      "El error cuadratico medio es:  6465289636.03151\n"
     ]
    }
   ],
   "source": [
    "ecm=np.mean((yMod-yLikes_train)**2) #Función de perdidad para el modelo lineal y=ax+b\n",
    "print(\"El error cuadratico medio es: \",ecm)"
   ]
  },
  {
   "cell_type": "code",
   "execution_count": 10,
   "metadata": {},
   "outputs": [
    {
     "data": {
      "image/png": "[encoded data removed]",
      "text/plain": [
       "<Figure size 432x288 with 1 Axes>"
      ]
     },
     "metadata": {
      "needs_background": "light"
     },
     "output_type": "display_data"
    },
    {
     "name": "stdout",
     "output_type": "stream",
     "text": [
      "El valor de a es:  -1.216370235878307e-10 El valor de b es:  0.03826818668377105 El valor de c es:  1109.3751514538915\n"
     ]
    }
   ],
   "source": [
    "a,b,c =np.polyfit(xViews_train,yLikes_train, deg=2)\n",
    "yMod= a*xViews_train**2 + b*xViews_train + c\n",
    "fig, var=plt.subplots()\n",
    "var.plot(xViews_train,yLikes_train, 'o')\n",
    "var.plot(xViews_train,yMod, '-', color='r')\n",
    "plt.xlabel(\"Views\",fontsize=15, c='g')\n",
    "plt.ylabel(\"Likes\",fontsize=15, c='g')\n",
    "plt.show()\n",
    "print(\"El valor de a es: \",a, \"El valor de b es: \",b,\"El valor de c es: \",c)"
   ]
  },
  {
   "cell_type": "markdown",
   "metadata": {},
   "source": [
    "### Función de perdida"
   ]
  },
  {
   "cell_type": "code",
   "execution_count": 11,
   "metadata": {},
   "outputs": [
    {
     "name": "stdout",
     "output_type": "stream",
     "text": [
      "El error cuadratico medio es:  5679527557.375971\n"
     ]
    }
   ],
   "source": [
    "ecm=np.mean((yMod-yLikes_train)**2)\n",
    "print(\"El error cuadratico medio es: \",ecm)"
   ]
  },
  {
   "cell_type": "markdown",
   "metadata": {},
   "source": [
    "**5. Conclusiones**\n"
   ]
  },
  {
   "cell_type": "markdown",
   "metadata": {},
   "source": [
    "1. Al observar el modelo obtenido con la regresión lineal se puede ver que sería ideal aumentar su cantidad de dimensiones. Esto es debido a que para valores bajos de la variable \"Views\" tenemos un comportamiento de la variable de interes \"Likes\" que parece depender en gran medida de otra variable.\n",
    "\n",
    "2. Se puede observar que con el cambio de modelo (y=ax+b => y=ax^2+bx+c) el ECM disminuye, por lo que se puede comprobar que este es un modelo mas apropiado."
   ]
  },
  {
   "cell_type": "markdown",
   "metadata": {},
   "source": [
    "6. Referencias\n",
    "\n",
    "[1] https://es.wikipedia.org/wiki/Regresi%C3%B3n_lineal\n",
    "\n",
    "[2] https://www.celeberrima.com/como-escribir-sumatorias-en-latex/"
   ]
  },
  {
   "cell_type": "code",
   "execution_count": null,
   "metadata": {},
   "outputs": [],
   "source": []
  }
 ],
 "metadata": {
  "kernelspec": {
   "display_name": "Python 3",
   "language": "python",
   "name": "python3"
  },
  "language_info": {
   "codemirror_mode": {
    "name": "ipython",
    "version": 3
   },
   "file_extension": ".py",
   "mimetype": "text/x-python",
   "name": "python",
   "nbconvert_exporter": "python",
   "pygments_lexer": "ipython3",
   "version": "3.8.5"
  }
 },
 "nbformat": 4,
 "nbformat_minor": 4
}
